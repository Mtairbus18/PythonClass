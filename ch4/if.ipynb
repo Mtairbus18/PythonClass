{
 "cells": [
  {
   "cell_type": "code",
   "execution_count": 1,
   "metadata": {},
   "outputs": [],
   "source": [
    "if len('abc') == 4:\n",
    "    print('맞습니다.')"
   ]
  },
  {
   "cell_type": "code",
   "execution_count": null,
   "id": "a1026351",
   "metadata": {},
   "outputs": [
    {
     "ename": "SyntaxError",
     "evalue": "incomplete input (3450602876.py, line 5)",
     "output_type": "error",
     "traceback": [
      "  \u001b[36mCell\u001b[39m\u001b[36m \u001b[39m\u001b[32mIn[8]\u001b[39m\u001b[32m, line 5\u001b[39m\n\u001b[31m    \u001b[39m\u001b[31mif next_hour == 13:\u001b[39m\n                       ^\n\u001b[31mSyntaxError\u001b[39m\u001b[31m:\u001b[39m incomplete input\n"
     ]
    }
   ],
   "source": [
    "hour = 12\n",
    "min = 4\n",
    "next_hour = hour + 1\n",
    "remain_min = 60 - min\n",
    "if next_hour == 13:\n",
    "    "
   ]
  },
  {
   "cell_type": "code",
   "execution_count": 6,
   "id": "d30ec6b6",
   "metadata": {},
   "outputs": [
    {
     "name": "stdout",
     "output_type": "stream",
     "text": [
      "현재 시간은 12시 4분 입니다. 13시 까지 56분 남았습니다\n"
     ]
    }
   ],
   "source": [
    "print(f'현재 시간은 {hour}시 {min}분 입니다. {next_hour}시 까지 {remain_min}분 남았습니다')"
   ]
  },
  {
   "cell_type": "code",
   "execution_count": 15,
   "id": "86101183",
   "metadata": {},
   "outputs": [
    {
     "name": "stdout",
     "output_type": "stream",
     "text": [
      "짝수입나다.\n"
     ]
    }
   ],
   "source": [
    "num = 20\n",
    "if num % 2 != 0:\n",
    "    print('홀수입니다')\n",
    "else:\n",
    "    print('짝수입나다.')"
   ]
  },
  {
   "cell_type": "code",
   "execution_count": 16,
   "id": "0da9c1b8",
   "metadata": {},
   "outputs": [
    {
     "data": {
      "text/plain": [
       "'123456789'"
      ]
     },
     "execution_count": 16,
     "metadata": {},
     "output_type": "execute_result"
    }
   ],
   "source": [
    "input()"
   ]
  },
  {
   "cell_type": "code",
   "execution_count": null,
   "id": "b82b7c1e",
   "metadata": {},
   "outputs": [],
   "source": [
    "database = {'harry' : '1234'}\n",
    "id = input()\n",
    "pwd = input()\n",
    "#database "
   ]
  },
  {
   "cell_type": "code",
   "execution_count": 11,
   "id": "8dab5e09",
   "metadata": {},
   "outputs": [
    {
     "name": "stdout",
     "output_type": "stream",
     "text": [
      "로그인 성공\n"
     ]
    }
   ],
   "source": [
    "database = {\"harry\": \"1234\"}\n",
    "pw = 1234\n",
    "if input():\n",
    "    print(\"로그인 성공\")\n",
    "else:\n",
    "    print(\"로그인 실패\")"
   ]
  },
  {
   "cell_type": "code",
   "execution_count": 16,
   "id": "5c8f3cae",
   "metadata": {},
   "outputs": [
    {
     "name": "stdout",
     "output_type": "stream",
     "text": [
      "양수입니다\n"
     ]
    }
   ],
   "source": [
    "num = 1\n",
    "\n",
    "if num > 0:\n",
    "    print('양수입니다')\n",
    "elif num < 0:\n",
    "    print('음수입나다')\n",
    "else:\n",
    "    print('0')"
   ]
  },
  {
   "cell_type": "code",
   "execution_count": 22,
   "id": "57b4377a",
   "metadata": {},
   "outputs": [
    {
     "name": "stdout",
     "output_type": "stream",
     "text": [
      "예약된 손님이 아닙니다!\n"
     ]
    }
   ],
   "source": [
    "guest = [{'name': 'harry', 'pwd': '1234'}, {'name': 'harry', 'pwd': '5678'}]\n",
    "name = input('name')\n",
    "pwd = input('pwd')\n",
    "guest0_name = guest[0]['name']\n",
    "guest0_pwd = guest[0]['pwd']\n",
    "guest1_name = guest[1]['name']\n",
    "guest1_pwd = guest[1]['pwd']\n",
    "if name == guest0_name and pwd == guest0_pwd:\n",
    "    print('예약된 손님입니다!')\n",
    "elif name == guest1_name and pwd == guest1_pwd:\n",
    "    print('예약된 손님입니다!')\n",
    "else:\n",
    "    print('예약된 손님이 아닙니다!')\n",
    "    "
   ]
  },
  {
   "cell_type": "markdown",
   "id": "86ae50e0",
   "metadata": {},
   "source": [
    "Question 1"
   ]
  },
  {
   "cell_type": "code",
   "execution_count": 26,
   "id": "cac140a4",
   "metadata": {},
   "outputs": [
    {
     "name": "stdout",
     "output_type": "stream",
     "text": [
      "정답\n"
     ]
    }
   ],
   "source": [
    "num = 15\n",
    "num_ex =15\n",
    "if num_ex < num:\n",
    "    print('up')\n",
    "elif num_ex > num:\n",
    "    print('down')\n",
    "else:\n",
    "    print('정답')"
   ]
  },
  {
   "cell_type": "markdown",
   "id": "8c9523a0",
   "metadata": {},
   "source": [
    "Question 2"
   ]
  },
  {
   "cell_type": "code",
   "execution_count": 44,
   "id": "ab77896e",
   "metadata": {},
   "outputs": [
    {
     "name": "stdout",
     "output_type": "stream",
     "text": [
      "띄어쓰기가 10개 들어간 문장입니다.\n"
     ]
    }
   ],
   "source": [
    "text = '문제를 해결하고 성공을 경험하는 것을 좋아하는 끈기 있는 성격을 가지고 있읍니다.'\n",
    "n = len(text.split(' '))\n",
    "n = n-1\n",
    "if n == 0:\n",
    "    print('띄어쓰기가 없는 문장입니다.')\n",
    "else:\n",
    "    print(f'띄어쓰기가 {n}개 들어간 문장입니다.')"
   ]
  },
  {
   "cell_type": "markdown",
   "id": "90a333b3",
   "metadata": {},
   "source": [
    "Question 3"
   ]
  },
  {
   "cell_type": "code",
   "execution_count": 45,
   "id": "4052276e",
   "metadata": {},
   "outputs": [],
   "source": [
    "hour, afternoon = 8, True\n",
    "hour_add = 30\n",
    "a,b = divmod(hour + hour_add, 12)"
   ]
  },
  {
   "cell_type": "markdown",
   "id": "184cdf5a",
   "metadata": {},
   "source": [
    "Question 4"
   ]
  },
  {
   "cell_type": "code",
   "execution_count": null,
   "id": "61c55e11",
   "metadata": {},
   "outputs": [
    {
     "name": "stdout",
     "output_type": "stream",
     "text": [
      "사세요\n"
     ]
    }
   ],
   "source": [
    "price = 1600\n",
    "have_stock = False\n",
    "if have_stock == True:\n",
    "    print('파세요')\n",
    "elif have_stock == False:\n",
    "    print('사세요')\n",
    "else:\n",
    "    print('기다리세요.')"
   ]
  },
  {
   "cell_type": "code",
   "execution_count": null,
   "id": "42b1805b",
   "metadata": {},
   "outputs": [
    {
     "name": "stdout",
     "output_type": "stream",
     "text": [
      "==\n"
     ]
    }
   ],
   "source": [
    "indexxx = input()\n",
    "A, B = indexxx.split(' ')\n",
    "A = int(A)\n",
    "B = int(B)\n",
    "if A > B:\n",
    "    print('>')\n",
    "elif A < B:\n",
    "    print('<')\n",
    "elif\n",
    "    print('==')\n"
   ]
  },
  {
   "cell_type": "code",
   "execution_count": null,
   "id": "dfaeaace",
   "metadata": {},
   "outputs": [
    {
     "name": "stdout",
     "output_type": "stream",
     "text": [
      "C\n"
     ]
    }
   ],
   "source": [
    "score = input()\n",
    "score = int(score)\n",
    "if score >= 90:\n",
    "    print('A')\n",
    "elif score >= 80:\n",
    "    print('B')\n",
    "elif score >= 70:\n",
    "    print('C')\n",
    "elif score >= 60:\n",
    "    print('D')\n",
    "else:\n",
    "    print('F')\n",
    "    and print"
   ]
  },
  {
   "cell_type": "code",
   "execution_count": null,
   "id": "156db9d2",
   "metadata": {},
   "outputs": [
    {
     "name": "stdout",
     "output_type": "stream",
     "text": [
      "1\n"
     ]
    }
   ],
   "source": [
    "leap = input()\n",
    "leap = int(leap)\n",
    "if leap % 4 == 0 and leap % 100 > 0 or leap % 400 == 0:\n",
    "    print(1)\n",
    "else:\n",
    "    print(0)"
   ]
  },
  {
   "cell_type": "code",
   "execution_count": 10,
   "id": "88ae0658",
   "metadata": {},
   "outputs": [
    {
     "name": "stdout",
     "output_type": "stream",
     "text": [
      "3\n"
     ]
    }
   ],
   "source": [
    "X = input()\n",
    "Y = input()\n",
    "X = int(X)\n",
    "Y = int(Y)\n",
    "if X > 0 and Y > 0:\n",
    "    print(1)\n",
    "elif X < 0 and Y > 0:\n",
    "    print(2)\n",
    "elif X < 0 and Y < 0:\n",
    "    print(3)\n",
    "else:\n",
    "    print(4)"
   ]
  },
  {
   "cell_type": "code",
   "execution_count": 2,
   "id": "d90a3275",
   "metadata": {},
   "outputs": [
    {
     "ename": "ValueError",
     "evalue": "invalid literal for int() with base 10: '3:30'",
     "output_type": "error",
     "traceback": [
      "\u001b[31m---------------------------------------------------------------------------\u001b[39m",
      "\u001b[31mValueError\u001b[39m                                Traceback (most recent call last)",
      "\u001b[36mCell\u001b[39m\u001b[36m \u001b[39m\u001b[32mIn[2]\u001b[39m\u001b[32m, line 3\u001b[39m\n\u001b[32m      1\u001b[39m H_input = \u001b[38;5;28minput\u001b[39m()\n\u001b[32m      2\u001b[39m H_split = H_input.split()\n\u001b[32m----> \u001b[39m\u001b[32m3\u001b[39m H = \u001b[38;5;28;43mint\u001b[39;49m\u001b[43m(\u001b[49m\u001b[43mH_split\u001b[49m\u001b[43m[\u001b[49m\u001b[32;43m0\u001b[39;49m\u001b[43m]\u001b[49m\u001b[43m)\u001b[49m\n\u001b[32m      4\u001b[39m M = \u001b[38;5;28mint\u001b[39m(H_split[\u001b[32m1\u001b[39m])\n\u001b[32m      5\u001b[39m \u001b[38;5;28;01mif\u001b[39;00m M >= \u001b[32m45\u001b[39m:\n",
      "\u001b[31mValueError\u001b[39m: invalid literal for int() with base 10: '3:30'"
     ]
    }
   ],
   "source": [
    "H_input = input()\n",
    "H_split = H_input.split()\n",
    "H = int(H_split[0])\n",
    "M = int(H_split[1])\n",
    "if M >= 45:\n",
    "    M = M - 45\n",
    "elif H == 0:\n",
    "    H = 23\n",
    "    M = M + 15 \n",
    "else:\n",
    "    H = H - 1\n",
    "    M = M + 15\n",
    "\n",
    "print(H, M)"
   ]
  },
  {
   "cell_type": "code",
   "execution_count": 3,
   "id": "aac34028",
   "metadata": {},
   "outputs": [
    {
     "ename": "IndexError",
     "evalue": "list index out of range",
     "output_type": "error",
     "traceback": [
      "\u001b[31m---------------------------------------------------------------------------\u001b[39m",
      "\u001b[31mIndexError\u001b[39m                                Traceback (most recent call last)",
      "\u001b[36mCell\u001b[39m\u001b[36m \u001b[39m\u001b[32mIn[3]\u001b[39m\u001b[32m, line 4\u001b[39m\n\u001b[32m      2\u001b[39m time_split = time_input.split()\n\u001b[32m      3\u001b[39m A = \u001b[38;5;28mint\u001b[39m(time_split[\u001b[32m0\u001b[39m])  \n\u001b[32m----> \u001b[39m\u001b[32m4\u001b[39m B = \u001b[38;5;28mint\u001b[39m(\u001b[43mtime_split\u001b[49m\u001b[43m[\u001b[49m\u001b[32;43m1\u001b[39;49m\u001b[43m]\u001b[49m)  \n\u001b[32m      5\u001b[39m C = \u001b[38;5;28mint\u001b[39m(\u001b[38;5;28minput\u001b[39m()) \n\u001b[32m      6\u001b[39m total_minutes = B + C\n",
      "\u001b[31mIndexError\u001b[39m: list index out of range"
     ]
    }
   ],
   "source": [
    "time_input = input()\n",
    "time_split = time_input.split()\n",
    "A = int(time_split[0])  \n",
    "B = int(time_split[1])  \n",
    "C = int(input()) \n",
    "total_minutes = B + C\n",
    "if total_minutes < 60:\n",
    "    B = total_minutes\n",
    "elif total_minutes >= 60:\n",
    "    A = A + (total_minutes // 60)\n",
    "    B = total_minutes % 60\n",
    "    if A >= 24:\n",
    "        A = A % 24\n",
    "print(A, B)\n"
   ]
  },
  {
   "cell_type": "code",
   "execution_count": null,
   "id": "dfc521da",
   "metadata": {},
   "outputs": [],
   "source": [
    "input_text = input()\n",
    "parts = input_text.split()\n",
    "first = int(parts[0])\n",
    "second = int(parts[1])\n",
    "third = int(parts[2])\n",
    "if first == second and second == third:\n",
    "    reward = 10000 + first * 1000\n",
    "elif first == second or first == third:\n",
    "    reward = 1000 + first * 100\n",
    "elif second == third:\n",
    "    reward = 1000 + second * 100\n",
    "else:\n",
    "    biggest = first\n",
    "    if second > biggest:\n",
    "        biggest = second\n",
    "    if third > biggest:\n",
    "        biggest = third\n",
    "    reward = biggest * 100\n",
    "\n",
    "print(reward)"
   ]
  }
 ],
 "metadata": {
  "kernelspec": {
   "display_name": "Python 3",
   "language": "python",
   "name": "python3"
  },
  "language_info": {
   "codemirror_mode": {
    "name": "ipython",
    "version": 3
   },
   "file_extension": ".py",
   "mimetype": "text/x-python",
   "name": "python",
   "nbconvert_exporter": "python",
   "pygments_lexer": "ipython3",
   "version": "3.12.1"
  }
 },
 "nbformat": 4,
 "nbformat_minor": 5
}
