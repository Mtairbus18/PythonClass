{
 "cells": [
  {
   "cell_type": "code",
   "execution_count": 1,
   "id": "76d0f74b",
   "metadata": {},
   "outputs": [
    {
     "name": "stdout",
     "output_type": "stream",
     "text": [
      "1\n",
      "2\n",
      "3\n",
      "4\n",
      "5\n"
     ]
    }
   ],
   "source": [
    "for i in [1, 2, 3, 4, 5]:\n",
    "    print(i)"
   ]
  },
  {
   "cell_type": "code",
   "execution_count": 2,
   "id": "fd2116df",
   "metadata": {},
   "outputs": [],
   "source": [
    "reservation = { # key : value\n",
    "    1 : {\"이름\": \"김해리\", \"전화번호\": 5984},\n",
    "    2 : {\"이름\": \"박지민\", \"전화번호\": 1234},\n",
    "    3 : {\"이름\": \"이수빈\", \"전화번호\": 5678},\n",
    "    4 : {\"이름\": \"최민호\", \"전화번호\": 9101},\n",
    "    5 : {\"이름\": \"정유진\", \"전화번호\": 4321},\n",
    "    6 : {\"이름\": \"오세훈\", \"전화번호\": 8765},\n",
    "    7 : {\"이름\": \"한지우\", \"전화번호\": 2468},\n",
    "    8 : {\"이름\": \"서지훈\", \"전화번호\": 1357}\n",
    "}\n"
   ]
  },
  {
   "cell_type": "code",
   "execution_count": 11,
   "id": "d64e05d0",
   "metadata": {},
   "outputs": [
    {
     "name": "stdout",
     "output_type": "stream",
     "text": [
      "이름은 김해리이고 전화번호는 5984\n",
      "이름은 박지민이고 전화번호는 1234\n",
      "이름은 이수빈이고 전화번호는 5678\n",
      "이름은 최민호이고 전화번호는 9101\n",
      "이름은 정유진이고 전화번호는 4321\n",
      "이름은 오세훈이고 전화번호는 8765\n",
      "이름은 한지우이고 전화번호는 2468\n",
      "이름은 서지훈이고 전화번호는 1357\n"
     ]
    }
   ],
   "source": [
    "for i in reservation:\n",
    "    value = reservation[i]\n",
    "    print(f'이름은 {value['이름']}이고 전화번호는 {value['전화번호']}')"
   ]
  },
  {
   "cell_type": "code",
   "execution_count": 15,
   "id": "1e130aba",
   "metadata": {},
   "outputs": [
    {
     "name": "stdout",
     "output_type": "stream",
     "text": [
      "예약자를 찾았습니다.\n"
     ]
    }
   ],
   "source": [
    "name = '김해리'\n",
    "phone_number = 5984\n",
    "for i in reservation:\n",
    "    value = reservation[i]\n",
    "    if name == value['이름'] and phone_number == value['전화번호']:\n",
    "        print('예약자를 찾았습니다.')"
   ]
  },
  {
   "cell_type": "code",
   "execution_count": 17,
   "id": "eaf0cd78",
   "metadata": {},
   "outputs": [
    {
     "name": "stdout",
     "output_type": "stream",
     "text": [
      "0\n",
      "2\n",
      "4\n",
      "6\n",
      "8\n",
      "10\n",
      "12\n",
      "14\n",
      "16\n",
      "18\n",
      "20\n",
      "22\n",
      "24\n",
      "26\n",
      "28\n",
      "30\n",
      "32\n",
      "34\n",
      "36\n",
      "38\n",
      "40\n",
      "42\n",
      "44\n",
      "46\n",
      "48\n",
      "50\n",
      "52\n",
      "54\n",
      "56\n",
      "58\n",
      "60\n",
      "62\n",
      "64\n",
      "66\n",
      "68\n",
      "70\n",
      "72\n",
      "74\n",
      "76\n",
      "78\n",
      "80\n",
      "82\n",
      "84\n",
      "86\n",
      "88\n",
      "90\n",
      "92\n",
      "94\n",
      "96\n",
      "98\n"
     ]
    }
   ],
   "source": [
    "num = 105\n",
    "for i in range(0, 100, 2):\n",
    "    print(i)"
   ]
  },
  {
   "cell_type": "code",
   "execution_count": 24,
   "id": "08c38f15",
   "metadata": {},
   "outputs": [
    {
     "name": "stdout",
     "output_type": "stream",
     "text": [
      "90\n",
      "85\n",
      "95\n",
      "80\n",
      "75\n",
      "100\n",
      "70\n",
      "60\n",
      "['김해리', '박지민', '이수빈', '최민호', '오세훈']\n"
     ]
    }
   ],
   "source": [
    "students = [\"김해리\", \"박지민\", \"이수빈\", \"최민호\", \"정유진\", \"오세훈\", \"한지우\", \"서지훈\"]\n",
    "maths = [90, 85, 95, 80, 75, 100, 70, 60]\n",
    "thershold = 80\n",
    "good_maths_students = []\n",
    "for idx in range(len(maths)):\n",
    "    print(maths[idx])\n",
    "    if thershold <= maths[idx]:\n",
    "        good_maths_students.append(students[idx])\n",
    "print(good_maths_students)"
   ]
  },
  {
   "cell_type": "code",
   "execution_count": 1,
   "id": "ec34004c",
   "metadata": {},
   "outputs": [
    {
     "name": "stdout",
     "output_type": "stream",
     "text": [
      "0번째 반복입니다.\n",
      "1번째 반복입니다.\n",
      "2번째 반복입니다.\n",
      "3번째 반복입니다.\n",
      "4번째 반복입니다.\n",
      "5번째 반복입니다.\n",
      "6번째 반복입니다.\n",
      "7번째 반복입니다.\n",
      "8번째 반복입니다.\n",
      "9번째 반복입니다.\n"
     ]
    }
   ],
   "source": [
    "count = 0\n",
    "while count < 10:\n",
    "    print(f'{count}번째 반복입니다.')\n",
    "    count += 1"
   ]
  },
  {
   "cell_type": "code",
   "execution_count": 25,
   "id": "dda92852",
   "metadata": {},
   "outputs": [
    {
     "name": "stdout",
     "output_type": "stream",
     "text": [
      "0번째 반복입니다.\n",
      "다시 시도해 보세요\n",
      "1번째 반복입니다.\n",
      "다시 시도해 보세요\n",
      "2번째 반복입니다.\n",
      "다시 시도해 보세요\n",
      "3번째 반복입니다.\n",
      "다시 시도해 보세요\n",
      "4번째 반복입니다.\n",
      "다시 시도해 보세요\n",
      "5번째 반복입니다.\n"
     ]
    }
   ],
   "source": [
    "answer = 5\n",
    "guess = 0\n",
    "count = 0\n",
    "while guess != answer:\n",
    "    guess = int(input('숫자를 맞춰보세요. (1 - 10): '))\n",
    "    print(f'{count}번째 반복입니다.')\n",
    "    count += 1\n",
    "    if count > 5:\n",
    "        break\n",
    "    if guess == answer:\n",
    "        print('정답입니다!')\n",
    "    else:\n",
    "        print('다시 시도해 보세요')\n",
    "        "
   ]
  },
  {
   "cell_type": "code",
   "execution_count": null,
   "id": "a5f2d380",
   "metadata": {},
   "outputs": [
    {
     "name": "stdout",
     "output_type": "stream",
     "text": [
      "0번째 반복입니다.\n",
      "다시 시도해 보세요.\n"
     ]
    }
   ],
   "source": [
    "database = {'username': 'harry', 'password': '0000'}\n",
    "count = 0\n",
    "username = input('아이디를 입력하세요.')\n",
    "password = input('비밀번호를 입력하세요.')\n",
    "\n",
    "while password != database['password'] and username != database['username'] :\n",
    "    print(f'{count}번째 반복입니다.')\n",
    "    count += 1\n",
    "    print('다시 시도해 보세요.')\n",
    "    if count < 5:\n",
    "        break\n",
    "if password == database['password'] and username == database['username']:\n",
    "    print('맞았습니다!')"
   ]
  },
  {
   "cell_type": "code",
   "execution_count": 32,
   "id": "c6f83b05",
   "metadata": {},
   "outputs": [
    {
     "name": "stdout",
     "output_type": "stream",
     "text": [
      "합:27, 평균:5.4\n"
     ]
    }
   ],
   "source": [
    "num_list = [1, 10, 7, 8, 1]\n",
    "num_sum = 0\n",
    "for i in num_list:\n",
    "    num_sum = num_sum + i\n",
    "num_avg = num_sum / len(num_list)\n",
    "print(f'합:{num_sum}, 평균:{num_avg}')"
   ]
  },
  {
   "cell_type": "code",
   "execution_count": 4,
   "id": "8aa4180c",
   "metadata": {},
   "outputs": [
    {
     "name": "stdout",
     "output_type": "stream",
     "text": [
      "합:27, 평균:5.4\n"
     ]
    }
   ],
   "source": [
    "num_list = [1, 10, 7, 8, 1]\n",
    "num_sum = 0\n",
    "index = 0\n",
    "while index < len(num_list):\n",
    "    num_sum = num_sum + num_list[index]\n",
    "    index += 1\n",
    "num_avg = num_sum / len(num_list)\n",
    "print(f'합:{num_sum}, 평균:{num_avg}')"
   ]
  },
  {
   "cell_type": "code",
   "execution_count": 5,
   "id": "7e5042a8",
   "metadata": {},
   "outputs": [
    {
     "name": "stdout",
     "output_type": "stream",
     "text": [
      "뒤집어도 같은 단어입니다\n"
     ]
    }
   ],
   "source": [
    "voca = '수박이박수'\n",
    "voca_reversed = voca[::-1]\n",
    "\n",
    "if voca == voca_reversed:\n",
    "    print('뒤집어도 같은 단어입니다')\n",
    "else:\n",
    "    print('뒤집으면 다른 단어입니다')"
   ]
  },
  {
   "cell_type": "code",
   "execution_count": null,
   "id": "928de54b",
   "metadata": {},
   "outputs": [
    {
     "name": "stdout",
     "output_type": "stream",
     "text": [
      "힌트는 : 동물\n",
      "힌트는 : 다리가 네개\n",
      "힌트는 : 애완 동물\n",
      "힌트는 : 000과 동물 : 사자, 호랑이, 표범\n",
      "정답입니다\n"
     ]
    }
   ],
   "source": [
    "hint = ['세 글자', '동물', '다리가 네개', '애완 동물', '000과 동물 : 사자, 호랑이, 표범']\n",
    "i = 1\n",
    "word = \"고양이\"  \n",
    "\n",
    "while i < len(hint):  \n",
    "    if i < len(hint): \n",
    "        print(f\"힌트는 : {hint[i]}\")\n",
    "    else:\n",
    "        print(\"더 이상의 힌트는 없습니다\")\n",
    "    answer = input(\"정답을 입력하세요 : \")\n",
    "    if answer == word:\n",
    "        break\n",
    "    i += 1\n",
    "\n",
    "print(\"정답입니다\")"
   ]
  },
  {
   "cell_type": "code",
   "execution_count": 4,
   "id": "884dc93b",
   "metadata": {},
   "outputs": [
    {
     "name": "stdout",
     "output_type": "stream",
     "text": [
      "맞혔습니다.\n",
      "맞혔습니다.\n",
      "맞혔습니다.\n",
      "맞혔습니다.\n",
      "맞혔습니다.\n",
      "맞혔습니다.\n",
      "맞혔습니다.\n",
      "맞혔습니다.\n",
      "맞혔습니다.\n",
      "맞혔습니다.\n",
      "맞혔습니다.\n",
      "맞혔습니다.\n",
      "틀렸습니다.\n"
     ]
    }
   ],
   "source": [
    "num = 1\n",
    "while True:\n",
    "    num_input = int(input(f'{num} 에 2를 곱하면?:'))\n",
    "    if num * 2 == num_input:\n",
    "        print('맞혔습니다.')\n",
    "        num = num * 2\n",
    "    else:\n",
    "        print('틀렸습니다.')\n",
    "        break "
   ]
  },
  {
   "cell_type": "code",
   "execution_count": 1,
   "id": "d4ff3e46",
   "metadata": {},
   "outputs": [
    {
     "ename": "ValueError",
     "evalue": "not enough values to unpack (expected 2, got 1)",
     "output_type": "error",
     "traceback": [
      "\u001b[31m---------------------------------------------------------------------------\u001b[39m",
      "\u001b[31mValueError\u001b[39m                                Traceback (most recent call last)",
      "\u001b[36mCell\u001b[39m\u001b[36m \u001b[39m\u001b[32mIn[1]\u001b[39m\u001b[32m, line 4\u001b[39m\n\u001b[32m      1\u001b[39m T = \u001b[38;5;28mint\u001b[39m(\u001b[38;5;28minput\u001b[39m(\u001b[33m\"\u001b[39m\u001b[33mHow many pairs of numbers will you add? \u001b[39m\u001b[33m\"\u001b[39m))\n\u001b[32m      3\u001b[39m \u001b[38;5;28;01mfor\u001b[39;00m i \u001b[38;5;129;01min\u001b[39;00m \u001b[38;5;28mrange\u001b[39m(T):\n\u001b[32m----> \u001b[39m\u001b[32m4\u001b[39m     A, B = \u001b[38;5;28minput\u001b[39m(\u001b[33mf\u001b[39m\u001b[33m\"\u001b[39m\u001b[33mEnter pair #\u001b[39m\u001b[38;5;132;01m{\u001b[39;00mi+\u001b[32m1\u001b[39m\u001b[38;5;132;01m}\u001b[39;00m\u001b[33m (two numbers separated by space): \u001b[39m\u001b[33m\"\u001b[39m).split()\n\u001b[32m      6\u001b[39m     A = \u001b[38;5;28mint\u001b[39m(A)\n\u001b[32m      7\u001b[39m     B = \u001b[38;5;28mint\u001b[39m(B)\n",
      "\u001b[31mValueError\u001b[39m: not enough values to unpack (expected 2, got 1)"
     ]
    }
   ],
   "source": [
    "T = int(input(\"How many pairs of numbers will you add? \"))\n",
    "\n",
    "for i in range(T):\n",
    "    A, B = input(f\"Enter pair #{i+1} (two numbers separated by space): \").split()\n",
    "    \n",
    "    A = int(A)\n",
    "    B = int(B)\n",
    "    \n",
    "    print(\"Result:\", A + B)"
   ]
  },
  {
   "cell_type": "code",
   "execution_count": null,
   "id": "1f0f567e",
   "metadata": {},
   "outputs": [],
   "source": [
    "total = int(input(\"Enter the total amount on the receipt: \"))\n",
    "\n",
    "num_items = int(input(\"Enter the number of items purchased: \"))\n",
    "\n",
    "calculated_total = 0\n",
    "\n",
    "for i in range(num_items):\n",
    "    price, quantity = map(int, input(f\"Enter price and quantity for item #{i+1}: \").split())\n",
    "    calculated_total += price * quantity\n",
    "\n",
    "if calculated_total == total:\n",
    "    print(\"Yes\")  \n",
    "else:\n",
    "    print(\"No\")   "
   ]
  },
  {
   "cell_type": "code",
   "execution_count": null,
   "id": "810ff030",
   "metadata": {},
   "outputs": [],
   "source": [
    "T = int(input(\"How many test cases? \"))\n",
    "\n",
    "for i in range(1, T + 1):\n",
    "    A, B = map(int, input(f\"Enter two numbers for Case #{i} (separated by space): \").split())\n",
    "    \n",
    "    result = A + B\n",
    "    \n",
    "    print(f\"Case #{i}: {A} + {B} = {result}\")"
   ]
  },
  {
   "cell_type": "code",
   "execution_count": null,
   "id": "08e9934b",
   "metadata": {},
   "outputs": [],
   "source": [
    "N = int(input(\"Enter a number between 1 and 100: \"))\n",
    "\n",
    "for i in range(1, N + 1):\n",
    "    print(\"*\" * i)"
   ]
  },
  {
   "cell_type": "code",
   "execution_count": null,
   "id": "647162ea",
   "metadata": {},
   "outputs": [],
   "source": [
    "N = int(input(\"Enter a number between 1 and 100: \"))\n",
    "\n",
    "for i in range(1, N + 1):\n",
    "    spaces = \" \" * (N - i)  \n",
    "    stars = \"*\" * i         \n",
    "    print(spaces + stars)   "
   ]
  },
  {
   "cell_type": "code",
   "execution_count": null,
   "id": "b9e7a841",
   "metadata": {},
   "outputs": [],
   "source": [
    "while True:\n",
    "    # Step 2: Ask for two numbers\n",
    "    A, B = map(int, input(\"Enter two numbers (0 0 to stop): \").split())\n",
    "    \n",
    "    if A == 0 and B == 0:\n",
    "        break\n",
    "    \n",
    "    print(\"Sum:\", A + B)"
   ]
  },
  {
   "cell_type": "code",
   "execution_count": 3,
   "id": "ebc8fd67",
   "metadata": {},
   "outputs": [
    {
     "name": "stdout",
     "output_type": "stream",
     "text": [
      "현재 시각은 1시 37분 입니다.\n"
     ]
    }
   ],
   "source": [
    "import datetime\n",
    "now = datetime.datetime.now()\n",
    "hour = now.hour\n",
    "min = now.minute\n",
    "print(f'현재 시각은 {hour}시 {min}분 입니다.')\n"
   ]
  },
  {
   "cell_type": "code",
   "execution_count": 6,
   "id": "526813d0",
   "metadata": {},
   "outputs": [
    {
     "data": {
      "image/png": "[encoded data removed]",
      "text/plain": [
       "<Figure size 640x480 with 1 Axes>"
      ]
     },
     "metadata": {},
     "output_type": "display_data"
    }
   ],
   "source": [
    "import matplotlib.pyplot as plt\n",
    "x = []\n",
    "for i in range (1, 11):\n",
    "    x.append(f'7/{i}')\n",
    "y = [10000, 10200, 11000, 9800, 9500, 9800, 9700, 10000, 11000, 11300]\n",
    "plt.plot(x, y)\n",
    "plt.show()\n"
   ]
  },
  {
   "cell_type": "code",
   "execution_count": 10,
   "id": "943ac6ae",
   "metadata": {},
   "outputs": [],
   "source": [
    "import random\n",
    "def fortune(name) :\n",
    "    fortune_list = ['지금의 노력은 미래의 성공으로 이어질 수 있습니다.',\n",
    "    '당신은 더 멋진 일을 해낼 수 있습니다.'\n",
    "    '긍정적인 태도와 마음가짐은 주변을 변화시킵니다.'\n",
    "    '잠시 쉬어가며 마음의 평화를 찾아보세요.'\n",
    "    '새로운 도전에 두려위하지 마세요.']\n",
    "    select = random.choice(fortune_list)\n",
    "    print(f'{name}님, {select}')"
   ]
  },
  {
   "cell_type": "code",
   "execution_count": 21,
   "id": "504d7d65",
   "metadata": {},
   "outputs": [],
   "source": [
    "def str_to_float(input_list):\n",
    "    output_list = []\n",
    "    for item in input_list[:]: \n",
    "        float_item = float(item)\n",
    "        output_list.append(float_item)\n",
    "    return output_list"
   ]
  },
  {
   "cell_type": "code",
   "execution_count": 22,
   "id": "de6286b9",
   "metadata": {},
   "outputs": [
    {
     "data": {
      "text/plain": [
       "[1.1, 2.0, 4.2, 5.9, 7.1]"
      ]
     },
     "execution_count": 22,
     "metadata": {},
     "output_type": "execute_result"
    }
   ],
   "source": [
    "str_to_float(['1.1', '2.0', '4.2', '5.9', '7.1'])"
   ]
  },
  {
   "cell_type": "code",
   "execution_count": null,
   "id": "10a92ccf",
   "metadata": {},
   "outputs": [],
   "source": []
  }
 ],
 "metadata": {
  "kernelspec": {
   "display_name": "Python 3",
   "language": "python",
   "name": "python3"
  },
  "language_info": {
   "codemirror_mode": {
    "name": "ipython",
    "version": 3
   },
   "file_extension": ".py",
   "mimetype": "text/x-python",
   "name": "python",
   "nbconvert_exporter": "python",
   "pygments_lexer": "ipython3",
   "version": "3.12.1"
  }
 },
 "nbformat": 4,
 "nbformat_minor": 5
}
