{
 "cells": [
  {
   "cell_type": "markdown",
   "id": "eef2aaf0",
   "metadata": {},
   "source": [
    "# 숫자형 데이터"
   ]
  },
  {
   "cell_type": "code",
   "execution_count": 1,
   "metadata": {},
   "outputs": [
    {
     "name": "stdout",
     "output_type": "stream",
     "text": [
      "<class 'int'>\n"
     ]
    }
   ],
   "source": [
    "print(type(1))"
   ]
  },
  {
   "cell_type": "code",
   "execution_count": 2,
   "id": "891fe502",
   "metadata": {},
   "outputs": [
    {
     "name": "stdout",
     "output_type": "stream",
     "text": [
      "<class 'float'>\n"
     ]
    }
   ],
   "source": [
    "print(type(2.8))"
   ]
  },
  {
   "cell_type": "code",
   "execution_count": 3,
   "id": "61dc6f0a",
   "metadata": {},
   "outputs": [
    {
     "data": {
      "text/plain": [
       "2.5"
      ]
     },
     "execution_count": 3,
     "metadata": {},
     "output_type": "execute_result"
    }
   ],
   "source": [
    "1.2 + 1.3"
   ]
  },
  {
   "cell_type": "code",
   "execution_count": 4,
   "id": "d0966c76",
   "metadata": {},
   "outputs": [
    {
     "data": {
      "text/plain": [
       "1"
      ]
     },
     "execution_count": 4,
     "metadata": {},
     "output_type": "execute_result"
    }
   ],
   "source": [
    "8 // 5"
   ]
  },
  {
   "cell_type": "code",
   "execution_count": 5,
   "id": "e86146ae",
   "metadata": {},
   "outputs": [
    {
     "data": {
      "text/plain": [
       "3"
      ]
     },
     "execution_count": 5,
     "metadata": {},
     "output_type": "execute_result"
    }
   ],
   "source": [
    "8 % 5"
   ]
  },
  {
   "cell_type": "code",
   "execution_count": 6,
   "id": "78345150",
   "metadata": {},
   "outputs": [
    {
     "data": {
      "text/plain": [
       "27"
      ]
     },
     "execution_count": 6,
     "metadata": {},
     "output_type": "execute_result"
    }
   ],
   "source": [
    "3 ** 3"
   ]
  },
  {
   "cell_type": "code",
   "execution_count": 7,
   "id": "b66c9598",
   "metadata": {},
   "outputs": [],
   "source": [
    "count = 0"
   ]
  },
  {
   "cell_type": "code",
   "execution_count": 10,
   "id": "d72db218",
   "metadata": {},
   "outputs": [],
   "source": [
    "#깐다\n",
    "count = count + 1"
   ]
  },
  {
   "cell_type": "code",
   "execution_count": 11,
   "id": "e816ac1a",
   "metadata": {},
   "outputs": [
    {
     "data": {
      "text/plain": [
       "1"
      ]
     },
     "execution_count": 11,
     "metadata": {},
     "output_type": "execute_result"
    }
   ],
   "source": [
    "count"
   ]
  },
  {
   "cell_type": "code",
   "execution_count": 12,
   "id": "c05a6661",
   "metadata": {},
   "outputs": [],
   "source": [
    "count = count + 1\n"
   ]
  },
  {
   "cell_type": "code",
   "execution_count": 13,
   "id": "2a0690c6",
   "metadata": {},
   "outputs": [
    {
     "data": {
      "text/plain": [
       "2"
      ]
     },
     "execution_count": 13,
     "metadata": {},
     "output_type": "execute_result"
    }
   ],
   "source": [
    "count"
   ]
  },
  {
   "cell_type": "code",
   "execution_count": 14,
   "id": "233fa42b",
   "metadata": {},
   "outputs": [],
   "source": [
    "count = count + 1"
   ]
  },
  {
   "cell_type": "code",
   "execution_count": 15,
   "id": "4cc6f5a3",
   "metadata": {},
   "outputs": [
    {
     "data": {
      "text/plain": [
       "3"
      ]
     },
     "execution_count": 15,
     "metadata": {},
     "output_type": "execute_result"
    }
   ],
   "source": [
    "count"
   ]
  },
  {
   "cell_type": "code",
   "execution_count": 16,
   "id": "1cd567cb",
   "metadata": {},
   "outputs": [
    {
     "data": {
      "text/plain": [
       "1"
      ]
     },
     "execution_count": 16,
     "metadata": {},
     "output_type": "execute_result"
    }
   ],
   "source": [
    "count = 100 \n",
    "count % 3"
   ]
  },
  {
   "cell_type": "code",
   "execution_count": 17,
   "id": "33730ef9",
   "metadata": {},
   "outputs": [],
   "source": [
    "count = 0\n",
    "count += 1"
   ]
  },
  {
   "cell_type": "code",
   "execution_count": 18,
   "id": "57490db0",
   "metadata": {},
   "outputs": [
    {
     "data": {
      "text/plain": [
       "1"
      ]
     },
     "execution_count": 18,
     "metadata": {},
     "output_type": "execute_result"
    }
   ],
   "source": [
    "count"
   ]
  },
  {
   "cell_type": "code",
   "execution_count": 1,
   "id": "01c4eaa8",
   "metadata": {},
   "outputs": [],
   "source": [
    "var = 4.4567567"
   ]
  },
  {
   "cell_type": "code",
   "execution_count": 6,
   "id": "607ad5c2",
   "metadata": {},
   "outputs": [
    {
     "name": "stdout",
     "output_type": "stream",
     "text": [
      "4\n"
     ]
    },
    {
     "data": {
      "text/plain": [
       "4"
      ]
     },
     "execution_count": 6,
     "metadata": {},
     "output_type": "execute_result"
    }
   ],
   "source": [
    "# round\n",
    "# ceil\n",
    "# floor\n",
    "print(round(var))\n",
    "import math\n",
    "math.ceil(var)\n",
    "math.floor(var)\n"
   ]
  },
  {
   "cell_type": "code",
   "execution_count": 1,
   "id": "3d81aeca",
   "metadata": {},
   "outputs": [
    {
     "name": "stdout",
     "output_type": "stream",
     "text": [
      "python\n"
     ]
    }
   ],
   "source": [
    "a = 'python'\n",
    "print(a)"
   ]
  },
  {
   "cell_type": "code",
   "execution_count": 2,
   "id": "e1727f46",
   "metadata": {},
   "outputs": [],
   "source": [
    "a = '''hello\n",
    "python'''"
   ]
  },
  {
   "cell_type": "code",
   "execution_count": 3,
   "id": "16437f43",
   "metadata": {},
   "outputs": [
    {
     "name": "stdout",
     "output_type": "stream",
     "text": [
      "hello\n",
      "python\n"
     ]
    }
   ],
   "source": [
    "print (a)"
   ]
  },
  {
   "cell_type": "code",
   "execution_count": 6,
   "id": "529773a6",
   "metadata": {},
   "outputs": [],
   "source": [
    "a = 'hello\\npython'"
   ]
  },
  {
   "cell_type": "code",
   "execution_count": 7,
   "id": "fc7fede8",
   "metadata": {},
   "outputs": [
    {
     "name": "stdout",
     "output_type": "stream",
     "text": [
      "hello\n",
      "python\n"
     ]
    }
   ],
   "source": [
    "print (a)"
   ]
  },
  {
   "cell_type": "code",
   "execution_count": 8,
   "id": "aa983efe",
   "metadata": {},
   "outputs": [
    {
     "ename": "NameError",
     "evalue": "name 'HarryBabo' is not defined",
     "output_type": "error",
     "traceback": [
      "\u001b[31m---------------------------------------------------------------------------\u001b[39m",
      "\u001b[31mNameError\u001b[39m                                 Traceback (most recent call last)",
      "\u001b[36mCell\u001b[39m\u001b[36m \u001b[39m\u001b[32mIn[8]\u001b[39m\u001b[32m, line 1\u001b[39m\n\u001b[32m----> \u001b[39m\u001b[32m1\u001b[39m a = \u001b[43mHarryBabo\u001b[49m\n",
      "\u001b[31mNameError\u001b[39m: name 'HarryBabo' is not defined"
     ]
    }
   ],
   "source": [
    "a = HarryBabo"
   ]
  },
  {
   "cell_type": "code",
   "execution_count": 13,
   "id": "f481ec39",
   "metadata": {},
   "outputs": [],
   "source": [
    "a = '''harry\n",
    "babo'''"
   ]
  },
  {
   "cell_type": "code",
   "execution_count": 14,
   "id": "8083ca16",
   "metadata": {},
   "outputs": [
    {
     "name": "stdout",
     "output_type": "stream",
     "text": [
      "harry\n",
      "babo\n"
     ]
    }
   ],
   "source": [
    "print (a)"
   ]
  },
  {
   "cell_type": "code",
   "execution_count": 15,
   "id": "ac7bef82",
   "metadata": {},
   "outputs": [],
   "source": [
    "a = 'harry\\npython'"
   ]
  },
  {
   "cell_type": "code",
   "execution_count": 16,
   "id": "c5b25df2",
   "metadata": {},
   "outputs": [
    {
     "name": "stdout",
     "output_type": "stream",
     "text": [
      "harry\n",
      "python\n"
     ]
    }
   ],
   "source": [
    "print(a)"
   ]
  },
  {
   "cell_type": "code",
   "execution_count": 17,
   "id": "78e450dd",
   "metadata": {},
   "outputs": [
    {
     "name": "stdout",
     "output_type": "stream",
     "text": [
      "one\ttwo\ttherr\n"
     ]
    }
   ],
   "source": [
    "print('one\\ttwo\\ttherr')"
   ]
  },
  {
   "cell_type": "code",
   "execution_count": 19,
   "id": "db98d3fe",
   "metadata": {},
   "outputs": [
    {
     "name": "stdout",
     "output_type": "stream",
     "text": [
      "'itisfivethousandwon'\n"
     ]
    }
   ],
   "source": [
    "print('\\'itisfivethousandwon\\'')"
   ]
  },
  {
   "cell_type": "code",
   "execution_count": 21,
   "id": "2b31feda",
   "metadata": {},
   "outputs": [
    {
     "data": {
      "text/plain": [
       "4"
      ]
     },
     "execution_count": 21,
     "metadata": {},
     "output_type": "execute_result"
    }
   ],
   "source": [
    "int('7') - 3"
   ]
  },
  {
   "cell_type": "code",
   "execution_count": 22,
   "id": "2128ef0c",
   "metadata": {},
   "outputs": [
    {
     "data": {
      "text/plain": [
       "'hellopython'"
      ]
     },
     "execution_count": 22,
     "metadata": {},
     "output_type": "execute_result"
    }
   ],
   "source": [
    "'hello' + 'python'"
   ]
  },
  {
   "cell_type": "code",
   "execution_count": 23,
   "id": "00f64059",
   "metadata": {},
   "outputs": [
    {
     "data": {
      "text/plain": [
       "'HelloHello'"
      ]
     },
     "execution_count": 23,
     "metadata": {},
     "output_type": "execute_result"
    }
   ],
   "source": [
    "'Hello' * 2"
   ]
  },
  {
   "cell_type": "code",
   "execution_count": 24,
   "id": "cd049fe7",
   "metadata": {},
   "outputs": [
    {
     "name": "stdout",
     "output_type": "stream",
     "text": [
      "----------------------------------------------------------------------------------------------\n",
      "Hello Python\n",
      "----------------------------------------------------------------------------------------------\n"
     ]
    }
   ],
   "source": [
    "print('----------------------------------------------------------------------------------------------')\n",
    "print('Hello Python')\n",
    "print('----------------------------------------------------------------------------------------------')"
   ]
  },
  {
   "cell_type": "code",
   "execution_count": 25,
   "id": "e1fc27e9",
   "metadata": {},
   "outputs": [
    {
     "name": "stdout",
     "output_type": "stream",
     "text": [
      "--------------------\n",
      "Hello Python\n",
      "--------------------\n"
     ]
    }
   ],
   "source": [
    "print('-' * 20)\n",
    "print('Hello Python')\n",
    "print('-' * 20)"
   ]
  },
  {
   "cell_type": "code",
   "execution_count": 28,
   "id": "cccad83d",
   "metadata": {},
   "outputs": [],
   "source": [
    "a = '-' * 20\n",
    "a += 'Hello Python'\n",
    "a += '-' * 20"
   ]
  },
  {
   "cell_type": "code",
   "execution_count": 29,
   "id": "90577d1f",
   "metadata": {},
   "outputs": [
    {
     "name": "stdout",
     "output_type": "stream",
     "text": [
      "--------------------Hello Python--------------------\n"
     ]
    }
   ],
   "source": [
    "print(a)"
   ]
  },
  {
   "cell_type": "code",
   "execution_count": 30,
   "id": "a6e1516b",
   "metadata": {},
   "outputs": [],
   "source": [
    "a = '-' * 20\n",
    "a += 'Hello Python'"
   ]
  },
  {
   "cell_type": "code",
   "execution_count": 31,
   "id": "5166c436",
   "metadata": {},
   "outputs": [
    {
     "name": "stdout",
     "output_type": "stream",
     "text": [
      "--------------------Hello Python\n"
     ]
    }
   ],
   "source": [
    "print(a)"
   ]
  },
  {
   "cell_type": "code",
   "execution_count": null,
   "id": "876b467f",
   "metadata": {},
   "outputs": [],
   "source": [
    "a = '-' * 20 + '\\n' # a -> '------\\n'\n",
    "a += 'Hello Python' + '\\n' # a -> '------\\nHello Python\\n'\n",
    "a += '-' *20 # a -> "
   ]
  },
  {
   "cell_type": "code",
   "execution_count": 33,
   "id": "f373dbb4",
   "metadata": {},
   "outputs": [
    {
     "name": "stdout",
     "output_type": "stream",
     "text": [
      "--------------------\n",
      "Hello Python\n",
      "--------------------\n"
     ]
    }
   ],
   "source": [
    "print(a)"
   ]
  },
  {
   "cell_type": "code",
   "execution_count": 1,
   "id": "9fe93b20",
   "metadata": {},
   "outputs": [
    {
     "ename": "TypeError",
     "evalue": "unsupported operand type(s) for -: 'str' and 'str'",
     "output_type": "error",
     "traceback": [
      "\u001b[31m---------------------------------------------------------------------------\u001b[39m",
      "\u001b[31mTypeError\u001b[39m                                 Traceback (most recent call last)",
      "\u001b[36mCell\u001b[39m\u001b[36m \u001b[39m\u001b[32mIn[1]\u001b[39m\u001b[32m, line 1\u001b[39m\n\u001b[32m----> \u001b[39m\u001b[32m1\u001b[39m \u001b[33;43m'\u001b[39;49m\u001b[33;43mHello\u001b[39;49m\u001b[33;43m'\u001b[39;49m\u001b[43m \u001b[49m\u001b[43m-\u001b[49m\u001b[43m \u001b[49m\u001b[33;43m'\u001b[39;49m\u001b[33;43mH\u001b[39;49m\u001b[33;43m'\u001b[39;49m\n",
      "\u001b[31mTypeError\u001b[39m: unsupported operand type(s) for -: 'str' and 'str'"
     ]
    }
   ],
   "source": [
    "'Hello' - 'H'"
   ]
  },
  {
   "cell_type": "code",
   "execution_count": 2,
   "id": "22fd3139",
   "metadata": {},
   "outputs": [
    {
     "data": {
      "text/plain": [
       "'Hello2'"
      ]
     },
     "execution_count": 2,
     "metadata": {},
     "output_type": "execute_result"
    }
   ],
   "source": [
    "'Hello' + '2'"
   ]
  },
  {
   "cell_type": "code",
   "execution_count": 3,
   "id": "5ec8b081",
   "metadata": {},
   "outputs": [
    {
     "ename": "TypeError",
     "evalue": "can only concatenate str (not \"int\") to str",
     "output_type": "error",
     "traceback": [
      "\u001b[31m---------------------------------------------------------------------------\u001b[39m",
      "\u001b[31mTypeError\u001b[39m                                 Traceback (most recent call last)",
      "\u001b[36mCell\u001b[39m\u001b[36m \u001b[39m\u001b[32mIn[3]\u001b[39m\u001b[32m, line 1\u001b[39m\n\u001b[32m----> \u001b[39m\u001b[32m1\u001b[39m \u001b[33;43m'\u001b[39;49m\u001b[33;43mHello\u001b[39;49m\u001b[33;43m'\u001b[39;49m\u001b[43m \u001b[49m\u001b[43m+\u001b[49m\u001b[43m \u001b[49m\u001b[32;43m2\u001b[39;49m\n",
      "\u001b[31mTypeError\u001b[39m: can only concatenate str (not \"int\") to str"
     ]
    }
   ],
   "source": [
    "'Hello' + 2"
   ]
  },
  {
   "cell_type": "code",
   "execution_count": 4,
   "id": "15c64918",
   "metadata": {},
   "outputs": [
    {
     "ename": "TypeError",
     "evalue": "can't multiply sequence by non-int of type 'str'",
     "output_type": "error",
     "traceback": [
      "\u001b[31m---------------------------------------------------------------------------\u001b[39m",
      "\u001b[31mTypeError\u001b[39m                                 Traceback (most recent call last)",
      "\u001b[36mCell\u001b[39m\u001b[36m \u001b[39m\u001b[32mIn[4]\u001b[39m\u001b[32m, line 1\u001b[39m\n\u001b[32m----> \u001b[39m\u001b[32m1\u001b[39m \u001b[33;43m'\u001b[39;49m\u001b[33;43mA\u001b[39;49m\u001b[33;43m'\u001b[39;49m\u001b[43m \u001b[49m\u001b[43m*\u001b[49m\u001b[43m \u001b[49m\u001b[33;43m'\u001b[39;49m\u001b[33;43mB\u001b[39;49m\u001b[33;43m'\u001b[39;49m\n",
      "\u001b[31mTypeError\u001b[39m: can't multiply sequence by non-int of type 'str'"
     ]
    }
   ],
   "source": [
    "'A' * 'B'"
   ]
  },
  {
   "cell_type": "code",
   "execution_count": 5,
   "id": "4a42e3f7",
   "metadata": {},
   "outputs": [
    {
     "data": {
      "text/plain": [
       "'AA'"
      ]
     },
     "execution_count": 5,
     "metadata": {},
     "output_type": "execute_result"
    }
   ],
   "source": [
    "'A' * 2"
   ]
  },
  {
   "cell_type": "code",
   "execution_count": 6,
   "id": "cf02cae6",
   "metadata": {},
   "outputs": [
    {
     "ename": "TypeError",
     "evalue": "can't multiply sequence by non-int of type 'float'",
     "output_type": "error",
     "traceback": [
      "\u001b[31m---------------------------------------------------------------------------\u001b[39m",
      "\u001b[31mTypeError\u001b[39m                                 Traceback (most recent call last)",
      "\u001b[36mCell\u001b[39m\u001b[36m \u001b[39m\u001b[32mIn[6]\u001b[39m\u001b[32m, line 1\u001b[39m\n\u001b[32m----> \u001b[39m\u001b[32m1\u001b[39m \u001b[33;43m'\u001b[39;49m\u001b[33;43mA\u001b[39;49m\u001b[33;43m'\u001b[39;49m\u001b[43m \u001b[49m\u001b[43m*\u001b[49m\u001b[43m \u001b[49m\u001b[32;43m2.0\u001b[39;49m\n",
      "\u001b[31mTypeError\u001b[39m: can't multiply sequence by non-int of type 'float'"
     ]
    }
   ],
   "source": [
    "'A' * 2.0"
   ]
  },
  {
   "cell_type": "code",
   "execution_count": 7,
   "id": "3739c3f5",
   "metadata": {},
   "outputs": [
    {
     "data": {
      "text/plain": [
       "5"
      ]
     },
     "execution_count": 7,
     "metadata": {},
     "output_type": "execute_result"
    }
   ],
   "source": [
    "len('He;;o')"
   ]
  },
  {
   "cell_type": "code",
   "execution_count": 8,
   "id": "649511d5",
   "metadata": {},
   "outputs": [],
   "source": [
    "a = 'Hello'"
   ]
  },
  {
   "cell_type": "code",
   "execution_count": 9,
   "id": "40768a3b",
   "metadata": {},
   "outputs": [
    {
     "data": {
      "text/plain": [
       "'H'"
      ]
     },
     "execution_count": 9,
     "metadata": {},
     "output_type": "execute_result"
    }
   ],
   "source": [
    "a[0]"
   ]
  },
  {
   "cell_type": "code",
   "execution_count": 10,
   "id": "cdc666ef",
   "metadata": {},
   "outputs": [
    {
     "data": {
      "text/plain": [
       "'o'"
      ]
     },
     "execution_count": 10,
     "metadata": {},
     "output_type": "execute_result"
    }
   ],
   "source": [
    "a[-1]"
   ]
  },
  {
   "cell_type": "code",
   "execution_count": 11,
   "id": "635a7f51",
   "metadata": {},
   "outputs": [
    {
     "data": {
      "text/plain": [
       "'H'"
      ]
     },
     "execution_count": 11,
     "metadata": {},
     "output_type": "execute_result"
    }
   ],
   "source": [
    "a[-5]"
   ]
  },
  {
   "cell_type": "code",
   "execution_count": 14,
   "id": "df05d901",
   "metadata": {},
   "outputs": [
    {
     "name": "stdout",
     "output_type": "stream",
     "text": [
      "Hello World\n"
     ]
    }
   ],
   "source": [
    "a='Hello Python'\n",
    "b=a[0]+a[1]+a[2]+a[3]+a[4]+' World'\n",
    "print(b)\n",
    "\n"
   ]
  },
  {
   "cell_type": "code",
   "execution_count": null,
   "id": "4193e186",
   "metadata": {},
   "outputs": [
    {
     "data": {
      "text/plain": [
       "'Hell'"
      ]
     },
     "execution_count": 15,
     "metadata": {},
     "output_type": "execute_result"
    }
   ],
   "source": [
    "a = 'Hello Python'\n",
    "a[0:4] # Hell => from 0 to 4-1"
   ]
  },
  {
   "cell_type": "code",
   "execution_count": 16,
   "id": "85410b57",
   "metadata": {},
   "outputs": [
    {
     "data": {
      "text/plain": [
       "'Hello'"
      ]
     },
     "execution_count": 16,
     "metadata": {},
     "output_type": "execute_result"
    }
   ],
   "source": [
    "a[0:5]"
   ]
  },
  {
   "cell_type": "code",
   "execution_count": 18,
   "id": "c93ebdac",
   "metadata": {},
   "outputs": [
    {
     "name": "stdout",
     "output_type": "stream",
     "text": [
      "Hello World\n"
     ]
    }
   ],
   "source": [
    "print(b)"
   ]
  },
  {
   "cell_type": "code",
   "execution_count": 20,
   "id": "0f79f300",
   "metadata": {},
   "outputs": [
    {
     "name": "stdout",
     "output_type": "stream",
     "text": [
      "HelloWorld\n"
     ]
    }
   ],
   "source": [
    "c = a[0:5] + 'World'\n",
    "print(c)"
   ]
  },
  {
   "cell_type": "code",
   "execution_count": 21,
   "id": "a389fb0f",
   "metadata": {},
   "outputs": [
    {
     "data": {
      "text/plain": [
       "'Python'"
      ]
     },
     "execution_count": 21,
     "metadata": {},
     "output_type": "execute_result"
    }
   ],
   "source": [
    "a = 'Hello Python'\n",
    "a[6:]"
   ]
  },
  {
   "cell_type": "code",
   "execution_count": null,
   "id": "b2a35e58",
   "metadata": {},
   "outputs": [
    {
     "data": {
      "text/plain": [
       "-1"
      ]
     },
     "execution_count": 3,
     "metadata": {},
     "output_type": "execute_result"
    }
   ],
   "source": [
    "A = 'Hello'\n",
    "A.find('w') # exist : index, not exist : -1"
   ]
  },
  {
   "cell_type": "code",
   "execution_count": 5,
   "id": "67829121",
   "metadata": {},
   "outputs": [
    {
     "data": {
      "text/plain": [
       "0"
      ]
     },
     "execution_count": 5,
     "metadata": {},
     "output_type": "execute_result"
    }
   ],
   "source": [
    "A.count('w')"
   ]
  },
  {
   "cell_type": "code",
   "execution_count": 7,
   "id": "498bfdfc",
   "metadata": {},
   "outputs": [
    {
     "data": {
      "text/plain": [
       "0"
      ]
     },
     "execution_count": 7,
     "metadata": {},
     "output_type": "execute_result"
    }
   ],
   "source": [
    "A.index('H')"
   ]
  },
  {
   "cell_type": "code",
   "execution_count": 8,
   "id": "7ffa45c4",
   "metadata": {},
   "outputs": [
    {
     "data": {
      "text/plain": [
       "0"
      ]
     },
     "execution_count": 8,
     "metadata": {},
     "output_type": "execute_result"
    }
   ],
   "source": [
    "A.find('H')"
   ]
  },
  {
   "cell_type": "code",
   "execution_count": 9,
   "id": "5f0cc63a",
   "metadata": {},
   "outputs": [
    {
     "ename": "ValueError",
     "evalue": "substring not found",
     "output_type": "error",
     "traceback": [
      "\u001b[31m---------------------------------------------------------------------------\u001b[39m",
      "\u001b[31mValueError\u001b[39m                                Traceback (most recent call last)",
      "\u001b[36mCell\u001b[39m\u001b[36m \u001b[39m\u001b[32mIn[9]\u001b[39m\u001b[32m, line 1\u001b[39m\n\u001b[32m----> \u001b[39m\u001b[32m1\u001b[39m \u001b[43mA\u001b[49m\u001b[43m.\u001b[49m\u001b[43mindex\u001b[49m\u001b[43m(\u001b[49m\u001b[33;43m'\u001b[39;49m\u001b[33;43mw\u001b[39;49m\u001b[33;43m'\u001b[39;49m\u001b[43m)\u001b[49m\n",
      "\u001b[31mValueError\u001b[39m: substring not found"
     ]
    }
   ],
   "source": [
    "A.index('w')"
   ]
  },
  {
   "cell_type": "code",
   "execution_count": 10,
   "id": "1e0233c3",
   "metadata": {},
   "outputs": [
    {
     "data": {
      "text/plain": [
       "-1"
      ]
     },
     "execution_count": 10,
     "metadata": {},
     "output_type": "execute_result"
    }
   ],
   "source": [
    "A.find('w')"
   ]
  },
  {
   "cell_type": "code",
   "execution_count": 11,
   "id": "fbf6e8fa",
   "metadata": {},
   "outputs": [
    {
     "data": {
      "text/plain": [
       "'hello'"
      ]
     },
     "execution_count": 11,
     "metadata": {},
     "output_type": "execute_result"
    }
   ],
   "source": [
    "A.replace('H', 'h')"
   ]
  },
  {
   "cell_type": "code",
   "execution_count": 12,
   "id": "e1fa1889",
   "metadata": {},
   "outputs": [
    {
     "data": {
      "text/plain": [
       "'Hello'"
      ]
     },
     "execution_count": 12,
     "metadata": {},
     "output_type": "execute_result"
    }
   ],
   "source": [
    "A.replace('W', 'w')"
   ]
  },
  {
   "cell_type": "code",
   "execution_count": 15,
   "id": "c6706a49",
   "metadata": {},
   "outputs": [
    {
     "data": {
      "text/plain": [
       "['Hello', 'Pyython']"
      ]
     },
     "execution_count": 15,
     "metadata": {},
     "output_type": "execute_result"
    }
   ],
   "source": [
    "A = 'Hello Pyython'\n",
    "A.split(' ')"
   ]
  },
  {
   "cell_type": "code",
   "execution_count": 16,
   "id": "465b551c",
   "metadata": {},
   "outputs": [],
   "source": [
    "A = '''\n",
    "person, score\n",
    "minsu 20\n",
    "younghee 30\n",
    "'''"
   ]
  },
  {
   "cell_type": "code",
   "execution_count": 17,
   "id": "c497d924",
   "metadata": {},
   "outputs": [
    {
     "data": {
      "text/plain": [
       "['', 'person, score', 'minsu 20', 'younghee 30', '']"
      ]
     },
     "execution_count": 17,
     "metadata": {},
     "output_type": "execute_result"
    }
   ],
   "source": [
    "A.split('\\n')"
   ]
  },
  {
   "cell_type": "code",
   "execution_count": null,
   "id": "fc1e5222",
   "metadata": {},
   "outputs": [
    {
     "name": "stdout",
     "output_type": "stream",
     "text": [
      "현재 시간은 8 시 3 분입니다\n"
     ]
    }
   ],
   "source": [
    "hour = 8\n",
    "min = 3\n",
    "\n",
    "print('현재 시간은', hour, '시', min, '분입니다')"
   ]
  },
  {
   "cell_type": "code",
   "execution_count": 21,
   "id": "97bb3dd4",
   "metadata": {},
   "outputs": [
    {
     "name": "stdout",
     "output_type": "stream",
     "text": [
      "현재 시간은 8 시 3 분입니다.\n"
     ]
    }
   ],
   "source": [
    "print(f'현재 시간은 {hour} 시 {min} 분입니다.')"
   ]
  },
  {
   "cell_type": "markdown",
   "id": "e929a173",
   "metadata": {},
   "source": [
    "# 백준 27866 문자와 문자열"
   ]
  },
  {
   "cell_type": "code",
   "execution_count": 1,
   "id": "7998c09d",
   "metadata": {},
   "outputs": [
    {
     "data": {
      "text/plain": [
       "'A'"
      ]
     },
     "execution_count": 1,
     "metadata": {},
     "output_type": "execute_result"
    }
   ],
   "source": [
    "S = 'START'\n",
    "i = 2\n",
    "S[i]"
   ]
  },
  {
   "cell_type": "code",
   "execution_count": 2,
   "id": "e2edd2fa",
   "metadata": {},
   "outputs": [],
   "source": [
    "S = input()"
   ]
  },
  {
   "cell_type": "code",
   "execution_count": 7,
   "id": "5ff345de",
   "metadata": {},
   "outputs": [],
   "source": [
    "input_data = input()"
   ]
  },
  {
   "cell_type": "code",
   "execution_count": 4,
   "id": "c2ed1786",
   "metadata": {},
   "outputs": [
    {
     "data": {
      "text/plain": [
       "'Sprite'"
      ]
     },
     "execution_count": 4,
     "metadata": {},
     "output_type": "execute_result"
    }
   ],
   "source": [
    "input_data"
   ]
  },
  {
   "cell_type": "code",
   "execution_count": null,
   "id": "cb50a591",
   "metadata": {},
   "outputs": [],
   "source": [
    "S = input()\n",
    "i = input()\n"
   ]
  },
  {
   "cell_type": "code",
   "execution_count": 9,
   "id": "b587bb0a",
   "metadata": {},
   "outputs": [
    {
     "data": {
      "text/plain": [
       "'Sprout'"
      ]
     },
     "execution_count": 9,
     "metadata": {},
     "output_type": "execute_result"
    }
   ],
   "source": [
    "S"
   ]
  },
  {
   "cell_type": "code",
   "execution_count": 10,
   "id": "d7b74929",
   "metadata": {},
   "outputs": [
    {
     "data": {
      "text/plain": [
       "'3'"
      ]
     },
     "execution_count": 10,
     "metadata": {},
     "output_type": "execute_result"
    }
   ],
   "source": [
    "i"
   ]
  },
  {
   "cell_type": "code",
   "execution_count": null,
   "id": "923fd669",
   "metadata": {},
   "outputs": [],
   "source": [
    "result = S[int(i)-1]"
   ]
  },
  {
   "cell_type": "code",
   "execution_count": 12,
   "id": "d8338477",
   "metadata": {},
   "outputs": [
    {
     "name": "stdout",
     "output_type": "stream",
     "text": [
      "o\n"
     ]
    }
   ],
   "source": [
    "print(result)"
   ]
  },
  {
   "cell_type": "markdown",
   "id": "924cb51c",
   "metadata": {},
   "source": [
    "백준 2743 단어 길이 재기"
   ]
  },
  {
   "cell_type": "code",
   "execution_count": 13,
   "id": "67ca1d14",
   "metadata": {},
   "outputs": [],
   "source": [
    "A = input()"
   ]
  },
  {
   "cell_type": "markdown",
   "id": "0522021d",
   "metadata": {},
   "source": []
  },
  {
   "cell_type": "code",
   "execution_count": 14,
   "id": "d7c4ac6e",
   "metadata": {},
   "outputs": [],
   "source": [
    "result = len(A)"
   ]
  },
  {
   "cell_type": "code",
   "execution_count": 15,
   "id": "e73e4ef3",
   "metadata": {},
   "outputs": [
    {
     "name": "stdout",
     "output_type": "stream",
     "text": [
      "8\n"
     ]
    }
   ],
   "source": [
    "print(result)"
   ]
  },
  {
   "cell_type": "markdown",
   "id": "7063d80b",
   "metadata": {},
   "source": [
    "백준 11654"
   ]
  },
  {
   "cell_type": "code",
   "execution_count": null,
   "id": "1a6aca61",
   "metadata": {},
   "outputs": [],
   "source": [
    "A = input()\n",
    "result = ord(A)"
   ]
  },
  {
   "cell_type": "code",
   "execution_count": 17,
   "id": "8cfae86d",
   "metadata": {},
   "outputs": [
    {
     "name": "stdout",
     "output_type": "stream",
     "text": [
      "65\n"
     ]
    }
   ],
   "source": [
    "print(result)"
   ]
  },
  {
   "cell_type": "markdown",
   "id": "e3a978dc",
   "metadata": {},
   "source": [
    "백준 1152"
   ]
  },
  {
   "cell_type": "code",
   "execution_count": null,
   "id": "b3cc5302",
   "metadata": {
    "vscode": {
     "languageId": "ruby"
    }
   },
   "outputs": [],
   "source": [
    "Q = 'The Curious Case of Benjamin Button'"
   ]
  },
  {
   "cell_type": "code",
   "execution_count": 1,
   "id": "398dbbc3",
   "metadata": {
    "vscode": {
     "languageId": "ruby"
    }
   },
   "outputs": [],
   "source": [
    "name = ['Harry', 'Danny', 'Blaze']"
   ]
  },
  {
   "cell_type": "code",
   "execution_count": 2,
   "id": "2caa38db",
   "metadata": {
    "vscode": {
     "languageId": "ruby"
    }
   },
   "outputs": [
    {
     "name": "stdout",
     "output_type": "stream",
     "text": [
      "['Harry', 'Danny', 'Blaze', 'Corey'] 4\n"
     ]
    }
   ],
   "source": [
    "name.append('Corey')\n",
    "print(name, len(name))"
   ]
  },
  {
   "cell_type": "code",
   "execution_count": null,
   "id": "9b84b660",
   "metadata": {
    "vscode": {
     "languageId": "ruby"
    }
   },
   "outputs": [],
   "source": []
  }
 ],
 "metadata": {
  "kernelspec": {
   "display_name": "Python 3",
   "language": "python",
   "name": "python3"
  },
  "language_info": {
   "codemirror_mode": {
    "name": "ipython",
    "version": 3
   },
   "file_extension": ".py",
   "mimetype": "text/x-python",
   "name": "python",
   "nbconvert_exporter": "python",
   "pygments_lexer": "ipython3",
   "version": "3.12.1"
  }
 },
 "nbformat": 4,
 "nbformat_minor": 5
}
