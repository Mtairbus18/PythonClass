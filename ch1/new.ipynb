{
 "cells": [
  {
   "cell_type": "markdown",
   "id": "ba5db974",
   "metadata": {},
   "source": [
    "# Syntax Rule of Variable"
   ]
  },
  {
   "cell_type": "code",
   "execution_count": null,
   "id": "84758315",
   "metadata": {},
   "outputs": [
    {
     "data": {
      "text/plain": [
       "5"
      ]
     },
     "execution_count": 5,
     "metadata": {},
     "output_type": "execute_result"
    }
   ],
   "source": [
    "a = 4 # Variable =(Assign) Data\n",
    "a + 1"
   ]
  },
  {
   "cell_type": "markdown",
   "metadata": {},
   "source": []
  },
  {
   "cell_type": "code",
   "execution_count": 3,
   "id": "449828a8",
   "metadata": {},
   "outputs": [
    {
     "data": {
      "text/plain": [
       "4"
      ]
     },
     "execution_count": 3,
     "metadata": {},
     "output_type": "execute_result"
    }
   ],
   "source": [
    "a"
   ]
  },
  {
   "cell_type": "code",
   "execution_count": null,
   "id": "74e150ef",
   "metadata": {},
   "outputs": [
    {
     "ename": "SyntaxError",
     "evalue": "invalid syntax (3003639787.py, line 1)",
     "output_type": "error",
     "traceback": [
      "  \u001b[36mCell\u001b[39m\u001b[36m \u001b[39m\u001b[32mIn[6]\u001b[39m\u001b[32m, line 1\u001b[39m\n\u001b[31m    \u001b[39m\u001b[31ma!b = 0\u001b[39m\n     ^\n\u001b[31mSyntaxError\u001b[39m\u001b[31m:\u001b[39m invalid syntax\n"
     ]
    }
   ],
   "source": [
    "a!b = 0 # Do not use special symbol"
   ]
  },
  {
   "cell_type": "code",
   "execution_count": null,
   "id": "efe25b18",
   "metadata": {},
   "outputs": [
    {
     "ename": "NameError",
     "evalue": "name 'abc' is not defined",
     "output_type": "error",
     "traceback": [
      "\u001b[31m---------------------------------------------------------------------------\u001b[39m",
      "\u001b[31mNameError\u001b[39m                                 Traceback (most recent call last)",
      "\u001b[36mCell\u001b[39m\u001b[36m \u001b[39m\u001b[32mIn[7]\u001b[39m\u001b[32m, line 1\u001b[39m\n\u001b[32m----> \u001b[39m\u001b[32m1\u001b[39m \u001b[43mabc\u001b[49m\n",
      "\u001b[31mNameError\u001b[39m: name 'abc' is not defined"
     ]
    }
   ],
   "source": [
    "abc # You should define data for variable first\n"
   ]
  },
  {
   "cell_type": "code",
   "execution_count": 8,
   "id": "ffc94c4d",
   "metadata": {},
   "outputs": [],
   "source": [
    "abc = 0\n"
   ]
  },
  {
   "cell_type": "code",
   "execution_count": 9,
   "id": "34e0d066",
   "metadata": {},
   "outputs": [
    {
     "name": "stdout",
     "output_type": "stream",
     "text": [
      "0\n"
     ]
    }
   ],
   "source": [
    "print(abc)"
   ]
  },
  {
   "cell_type": "code",
   "execution_count": 10,
   "id": "1bbc610c",
   "metadata": {},
   "outputs": [
    {
     "ename": "SyntaxError",
     "evalue": "invalid decimal literal (838478837.py, line 1)",
     "output_type": "error",
     "traceback": [
      "  \u001b[36mCell\u001b[39m\u001b[36m \u001b[39m\u001b[32mIn[10]\u001b[39m\u001b[32m, line 1\u001b[39m\n\u001b[31m    \u001b[39m\u001b[31m1st = 0\u001b[39m\n    ^\n\u001b[31mSyntaxError\u001b[39m\u001b[31m:\u001b[39m invalid decimal literal\n"
     ]
    }
   ],
   "source": [
    "1st = 0\n"
   ]
  },
  {
   "cell_type": "code",
   "execution_count": 22,
   "id": "8fdb0380",
   "metadata": {},
   "outputs": [
    {
     "ename": "SyntaxError",
     "evalue": "invalid syntax (2355012051.py, line 1)",
     "output_type": "error",
     "traceback": [
      "  \u001b[36mCell\u001b[39m\u001b[36m \u001b[39m\u001b[32mIn[22]\u001b[39m\u001b[32m, line 1\u001b[39m\n\u001b[31m    \u001b[39m\u001b[31mfor = 0 # Don not use python's varialbe like for, while , etc ...\u001b[39m\n        ^\n\u001b[31mSyntaxError\u001b[39m\u001b[31m:\u001b[39m invalid syntax\n"
     ]
    }
   ],
   "source": [
    "for = 0 # Don not use python's varialbe like for, while , etc ...\n"
   ]
  },
  {
   "cell_type": "markdown",
   "id": "378b23b5",
   "metadata": {},
   "source": [
    "# Skill Level Up - Make program using hour, min variables"
   ]
  },
  {
   "cell_type": "code",
   "execution_count": 13,
   "id": "ed5c432d",
   "metadata": {},
   "outputs": [
    {
     "name": "stdout",
     "output_type": "stream",
     "text": [
      "현재 시각은 11시 11분 입니다.\n"
     ]
    }
   ],
   "source": [
    "print('현재 시각은 11시 11분 입니다.')"
   ]
  },
  {
   "cell_type": "code",
   "execution_count": null,
   "id": "644cbf2c",
   "metadata": {},
   "outputs": [],
   "source": [
    "hour = 8"
   ]
  },
  {
   "cell_type": "code",
   "execution_count": null,
   "id": "939aeca5",
   "metadata": {},
   "outputs": [],
   "source": [
    "min = 4"
   ]
  },
  {
   "cell_type": "code",
   "execution_count": 18,
   "id": "c31a3e78",
   "metadata": {},
   "outputs": [
    {
     "name": "stdout",
     "output_type": "stream",
     "text": [
      "현제 시가ㄴ은 11 시 15 분입니다.\n"
     ]
    }
   ],
   "source": [
    "print('현제 시가ㄴ은', hour, '시', min, '분입니다.')"
   ]
  },
  {
   "cell_type": "code",
   "execution_count": 19,
   "id": "702afd4b",
   "metadata": {},
   "outputs": [],
   "source": [
    "next_hour = 9"
   ]
  },
  {
   "cell_type": "code",
   "execution_count": 20,
   "id": "2bc59cba",
   "metadata": {},
   "outputs": [],
   "source": [
    "remain_min = 56\n"
   ]
  },
  {
   "cell_type": "code",
   "execution_count": 21,
   "id": "155a801e",
   "metadata": {},
   "outputs": [
    {
     "name": "stdout",
     "output_type": "stream",
     "text": [
      "현재 시간은 11 시 15 분 입니다. 9 시까지 56 분 남았습니다.\n"
     ]
    }
   ],
   "source": [
    "print('현재 시간은', hour, '시', min , '분 입니다.', next_hour, '시까지', remain_min, '분 남았습니다.')"
   ]
  },
  {
   "cell_type": "code",
   "execution_count": 23,
   "id": "f208f702",
   "metadata": {},
   "outputs": [],
   "source": [
    "# TODO : Make program for next level using logical technique"
   ]
  },
  {
   "cell_type": "code",
   "execution_count": null,
   "id": "3342b45d",
   "metadata": {},
   "outputs": [],
   "source": []
  }
 ],
 "metadata": {
  "kernelspec": {
   "display_name": "Python 3",
   "language": "python",
   "name": "python3"
  },
  "language_info": {
   "codemirror_mode": {
    "name": "ipython",
    "version": 3
   },
   "file_extension": ".py",
   "mimetype": "text/x-python",
   "name": "python",
   "nbconvert_exporter": "python",
   "pygments_lexer": "ipython3",
   "version": "3.12.1"
  }
 },
 "nbformat": 4,
 "nbformat_minor": 5
}
