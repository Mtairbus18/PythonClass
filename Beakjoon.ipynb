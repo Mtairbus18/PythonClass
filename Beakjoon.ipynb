{
 "cells": [
  {
   "cell_type": "markdown",
   "id": "57d06321",
   "metadata": {},
   "source": [
    "10926번"
   ]
  },
  {
   "cell_type": "code",
   "execution_count": 9,
   "id": "79d29249",
   "metadata": {},
   "outputs": [
    {
     "name": "stdout",
     "output_type": "stream",
     "text": [
      "beakjoon??!\n"
     ]
    }
   ],
   "source": [
    "username = input()\n",
    "print(username + '??!')"
   ]
  },
  {
   "cell_type": "markdown",
   "id": "fe3e9917",
   "metadata": {},
   "source": [
    "18108번"
   ]
  },
  {
   "cell_type": "code",
   "execution_count": 13,
   "id": "2c3ee775",
   "metadata": {},
   "outputs": [
    {
     "name": "stdout",
     "output_type": "stream",
     "text": [
      "2455\n"
     ]
    }
   ],
   "source": [
    "thaiyear = input()\n",
    "thaiyear = int(thaiyear)\n",
    "defultyear = thaiyear - 543\n",
    "print(defultyear)"
   ]
  },
  {
   "cell_type": "markdown",
   "id": "cf6b16ba",
   "metadata": {},
   "source": [
    "10430번"
   ]
  },
  {
   "cell_type": "code",
   "execution_count": null,
   "id": "a29d4876",
   "metadata": {},
   "outputs": [
    {
     "name": "stdout",
     "output_type": "stream",
     "text": [
      "0\n",
      "0\n",
      "0\n",
      "0\n"
     ]
    }
   ],
   "source": [
    "numbers = input()\n",
    "split_list = numbers.split(sep=' ')\n",
    "a = split_list[0]\n",
    "a = int(a)\n",
    "b = split_list[1]\n",
    "b = int(b)\n",
    "c = split_list[2]\n",
    "c = int(c)\n"
   ]
  },
  {
   "cell_type": "code",
   "execution_count": 20,
   "id": "76d535aa",
   "metadata": {},
   "outputs": [],
   "source": [
    "d = '1 2 3'\n",
    "split_list = d.split(sep=' ')\n",
    "a = split_list[0]\n",
    "b = split_list[1]\n",
    "c = split_list[2]"
   ]
  },
  {
   "cell_type": "code",
   "execution_count": null,
   "id": "19b0a0ac",
   "metadata": {},
   "outputs": [
    {
     "data": {
      "text/plain": [
       "list"
      ]
     },
     "execution_count": 19,
     "metadata": {},
     "output_type": "execute_result"
    }
   ],
   "source": []
  },
  {
   "cell_type": "markdown",
   "id": "7b4e5e02",
   "metadata": {},
   "source": [
    "2588"
   ]
  },
  {
   "cell_type": "code",
   "execution_count": 29,
   "id": "577f7199",
   "metadata": {},
   "outputs": [
    {
     "name": "stdout",
     "output_type": "stream",
     "text": [
      "2360\n",
      "3776\n",
      "1416\n",
      "181720\n"
     ]
    }
   ],
   "source": [
    "first = input()\n",
    "second = input()\n",
    "third = int(first) * int(second[2])\n",
    "fourth = int(first) * int(second[1]) * 10\n",
    "fifth = int(first) * int(second[0]) * 100\n",
    "sixth = third + fourth + fifth\n",
    "fourth = fourth // 10\n",
    "fifth = fifth // 100\n",
    "print(third)\n",
    "print(fourth)\n",
    "print(fifth)\n",
    "print(sixth)"
   ]
  },
  {
   "cell_type": "code",
   "execution_count": 24,
   "id": "8cfb0b23",
   "metadata": {},
   "outputs": [
    {
     "data": {
      "text/plain": [
       "'237237'"
      ]
     },
     "execution_count": 24,
     "metadata": {},
     "output_type": "execute_result"
    }
   ],
   "source": [
    "a = '237' * 2\n",
    "b = '9'\n",
    "a"
   ]
  },
  {
   "cell_type": "markdown",
   "id": "6d1531b5",
   "metadata": {},
   "source": [
    "11382"
   ]
  },
  {
   "cell_type": "code",
   "execution_count": null,
   "id": "0080151f",
   "metadata": {},
   "outputs": [
    {
     "name": "stdout",
     "output_type": "stream",
     "text": [
      "['77', '77', '7777']\n"
     ]
    },
    {
     "data": {
      "text/plain": [
       "7931"
      ]
     },
     "execution_count": 37,
     "metadata": {},
     "output_type": "execute_result"
    }
   ],
   "source": [
    "abc = input()\n",
    "abc_split = print(abc.split())\n",
    "for abc in 3"
   ]
  },
  {
   "cell_type": "code",
   "execution_count": null,
   "id": "eb730360",
   "metadata": {},
   "outputs": [
    {
     "ename": "AttributeError",
     "evalue": "'int' object has no attribute 'split'",
     "output_type": "error",
     "traceback": [
      "\u001b[31m---------------------------------------------------------------------------\u001b[39m",
      "\u001b[31mAttributeError\u001b[39m                            Traceback (most recent call last)",
      "\u001b[36mCell\u001b[39m\u001b[36m \u001b[39m\u001b[32mIn[34]\u001b[39m\u001b[32m, line 2\u001b[39m\n\u001b[32m      1\u001b[39m n = \u001b[32m9696\u001b[39m\n\u001b[32m----> \u001b[39m\u001b[32m2\u001b[39m \u001b[43mn\u001b[49m\u001b[43m.\u001b[49m\u001b[43msplit\u001b[49m()\n",
      "\u001b[31mAttributeError\u001b[39m: 'int' object has no attribute 'split'"
     ]
    }
   ],
   "source": []
  },
  {
   "cell_type": "code",
   "execution_count": null,
   "id": "609195ad",
   "metadata": {},
   "outputs": [],
   "source": [
    "a, b, c = map(int, input().split())\n",
    "\n",
    "print(a + b + c)"
   ]
  }
 ],
 "metadata": {
  "kernelspec": {
   "display_name": "Python 3",
   "language": "python",
   "name": "python3"
  },
  "language_info": {
   "codemirror_mode": {
    "name": "ipython",
    "version": 3
   },
   "file_extension": ".py",
   "mimetype": "text/x-python",
   "name": "python",
   "nbconvert_exporter": "python",
   "pygments_lexer": "ipython3",
   "version": "3.12.1"
  }
 },
 "nbformat": 4,
 "nbformat_minor": 5
}
