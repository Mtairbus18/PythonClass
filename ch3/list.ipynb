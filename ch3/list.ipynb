{
 "cells": [
  {
   "cell_type": "code",
   "execution_count": 1,
   "id": "68c9b8da",
   "metadata": {},
   "outputs": [
    {
     "name": "stdout",
     "output_type": "stream",
     "text": [
      "['banana', 'apple', 'melon', 'strawberry']\n"
     ]
    }
   ],
   "source": [
    "fruit = ['banana', 'apple', 'melon', 'strawberry']\n",
    "print(fruit)"
   ]
  },
  {
   "cell_type": "code",
   "execution_count": 2,
   "id": "7375f48d",
   "metadata": {},
   "outputs": [
    {
     "name": "stdout",
     "output_type": "stream",
     "text": [
      "[1, 2, 3, 4, 5]\n"
     ]
    }
   ],
   "source": [
    "num = [1, 2, 3, 4, 5]\n",
    "print(num)"
   ]
  },
  {
   "cell_type": "code",
   "execution_count": 3,
   "id": "70b6a8e2",
   "metadata": {},
   "outputs": [
    {
     "name": "stdout",
     "output_type": "stream",
     "text": [
      "[1, 2, 3, 4, 5, [1, 2, 3]]\n"
     ]
    }
   ],
   "source": [
    "a = [1, 2, 3]\n",
    "b= [1, 2, 3, 4, 5, a]\n",
    "print(b)\n"
   ]
  },
  {
   "cell_type": "code",
   "execution_count": 4,
   "id": "9467add6",
   "metadata": {},
   "outputs": [
    {
     "data": {
      "text/plain": [
       "'yeonghee'"
      ]
     },
     "execution_count": 4,
     "metadata": {},
     "output_type": "execute_result"
    }
   ],
   "source": [
    "name = ['cheolsu', 'yeonghee', 'minho', 'minji']\n",
    "name[1]"
   ]
  },
  {
   "cell_type": "code",
   "execution_count": 5,
   "id": "75288151",
   "metadata": {},
   "outputs": [
    {
     "data": {
      "text/plain": [
       "'minji'"
      ]
     },
     "execution_count": 5,
     "metadata": {},
     "output_type": "execute_result"
    }
   ],
   "source": [
    "name[3]"
   ]
  },
  {
   "cell_type": "code",
   "execution_count": 6,
   "id": "6f6880ab",
   "metadata": {},
   "outputs": [
    {
     "data": {
      "text/plain": [
       "'minji'"
      ]
     },
     "execution_count": 6,
     "metadata": {},
     "output_type": "execute_result"
    }
   ],
   "source": [
    "name[-1]"
   ]
  },
  {
   "cell_type": "code",
   "execution_count": 7,
   "id": "d11be9b3",
   "metadata": {},
   "outputs": [],
   "source": [
    "path = ['up', 'right', 'right', 'right', 'down', 'left', 'right', 'up', 'up', 'up']"
   ]
  },
  {
   "cell_type": "code",
   "execution_count": 13,
   "id": "344deb4f",
   "metadata": {},
   "outputs": [],
   "source": [
    "path_1 = path[:4]\n",
    "path_2 = path[-2:]"
   ]
  },
  {
   "cell_type": "code",
   "execution_count": 10,
   "id": "b736630d",
   "metadata": {},
   "outputs": [
    {
     "name": "stdout",
     "output_type": "stream",
     "text": [
      "['up', 'right', 'right', 'right']\n"
     ]
    }
   ],
   "source": [
    "print(path_1)"
   ]
  },
  {
   "cell_type": "code",
   "execution_count": 14,
   "id": "d4c2b3d4",
   "metadata": {},
   "outputs": [
    {
     "name": "stdout",
     "output_type": "stream",
     "text": [
      "['up', 'up']\n"
     ]
    }
   ],
   "source": [
    "print(path_2)"
   ]
  },
  {
   "cell_type": "code",
   "execution_count": 15,
   "id": "8a21cb29",
   "metadata": {},
   "outputs": [
    {
     "data": {
      "text/plain": [
       "['up', 'right', 'right', 'right', 'up', 'up']"
      ]
     },
     "execution_count": 15,
     "metadata": {},
     "output_type": "execute_result"
    }
   ],
   "source": [
    "path_1 + path_2"
   ]
  },
  {
   "cell_type": "code",
   "execution_count": 16,
   "id": "54bd3548",
   "metadata": {},
   "outputs": [
    {
     "data": {
      "text/plain": [
       "['L', 'I', 'S', 'T']"
      ]
     },
     "execution_count": 16,
     "metadata": {},
     "output_type": "execute_result"
    }
   ],
   "source": [
    "['L']+['I']+['S']+['T']"
   ]
  },
  {
   "cell_type": "code",
   "execution_count": 17,
   "id": "a2f61f9a",
   "metadata": {},
   "outputs": [
    {
     "data": {
      "text/plain": [
       "['Hello', 'Hello']"
      ]
     },
     "execution_count": 17,
     "metadata": {},
     "output_type": "execute_result"
    }
   ],
   "source": [
    "['Hello'] *2"
   ]
  },
  {
   "cell_type": "code",
   "execution_count": 18,
   "id": "1e1c48fc",
   "metadata": {},
   "outputs": [
    {
     "data": {
      "text/plain": [
       "4"
      ]
     },
     "execution_count": 18,
     "metadata": {},
     "output_type": "execute_result"
    }
   ],
   "source": [
    "len(name)"
   ]
  },
  {
   "cell_type": "code",
   "execution_count": 19,
   "id": "9079194f",
   "metadata": {},
   "outputs": [
    {
     "name": "stdout",
     "output_type": "stream",
     "text": [
      "[1, 2, 3, 4, 5, [1, 2, 3]]\n"
     ]
    }
   ],
   "source": [
    "print(b)"
   ]
  },
  {
   "cell_type": "code",
   "execution_count": 20,
   "id": "1426fc21",
   "metadata": {},
   "outputs": [
    {
     "data": {
      "text/plain": [
       "6"
      ]
     },
     "execution_count": 20,
     "metadata": {},
     "output_type": "execute_result"
    }
   ],
   "source": [
    "len(b)\n"
   ]
  },
  {
   "cell_type": "code",
   "execution_count": 22,
   "id": "4bfca351",
   "metadata": {},
   "outputs": [
    {
     "data": {
      "text/plain": [
       "'strawberry'"
      ]
     },
     "execution_count": 22,
     "metadata": {},
     "output_type": "execute_result"
    }
   ],
   "source": [
    "fruit[-1]"
   ]
  },
  {
   "cell_type": "code",
   "execution_count": 23,
   "id": "774dd559",
   "metadata": {},
   "outputs": [
    {
     "data": {
      "text/plain": [
       "10"
      ]
     },
     "execution_count": 23,
     "metadata": {},
     "output_type": "execute_result"
    }
   ],
   "source": [
    "len(fruit[-1])"
   ]
  },
  {
   "cell_type": "code",
   "execution_count": 24,
   "id": "b02e15fb",
   "metadata": {},
   "outputs": [],
   "source": [
    "del fruit[-1]"
   ]
  },
  {
   "cell_type": "code",
   "execution_count": 25,
   "id": "20983d6a",
   "metadata": {},
   "outputs": [
    {
     "name": "stdout",
     "output_type": "stream",
     "text": [
      "['banana', 'apple', 'melon']\n"
     ]
    }
   ],
   "source": [
    "print(fruit)"
   ]
  },
  {
   "cell_type": "code",
   "execution_count": 28,
   "id": "c9b0e0ed",
   "metadata": {},
   "outputs": [],
   "source": [
    "fruit.append('mango')"
   ]
  },
  {
   "cell_type": "code",
   "execution_count": 29,
   "id": "8a698f62",
   "metadata": {},
   "outputs": [
    {
     "name": "stdout",
     "output_type": "stream",
     "text": [
      "['banana', 'apple', 'melon', 'mango']\n"
     ]
    }
   ],
   "source": [
    "print(fruit)"
   ]
  },
  {
   "cell_type": "code",
   "execution_count": 34,
   "id": "4bbdd473",
   "metadata": {},
   "outputs": [],
   "source": [
    "fruit[0]='watermelon'"
   ]
  },
  {
   "cell_type": "code",
   "execution_count": 35,
   "id": "95c0beec",
   "metadata": {},
   "outputs": [
    {
     "data": {
      "text/plain": [
       "['watermelon', 'apple', 'melon', 'mango']"
      ]
     },
     "execution_count": 35,
     "metadata": {},
     "output_type": "execute_result"
    }
   ],
   "source": [
    "fruit"
   ]
  },
  {
   "cell_type": "code",
   "execution_count": 36,
   "id": "9a69603c",
   "metadata": {},
   "outputs": [],
   "source": [
    "fruit.remove('watermelon')"
   ]
  },
  {
   "cell_type": "code",
   "execution_count": 37,
   "id": "e7755ba4",
   "metadata": {},
   "outputs": [
    {
     "data": {
      "text/plain": [
       "['apple', 'melon', 'mango']"
      ]
     },
     "execution_count": 37,
     "metadata": {},
     "output_type": "execute_result"
    }
   ],
   "source": [
    "fruit"
   ]
  },
  {
   "cell_type": "code",
   "execution_count": 38,
   "id": "a546a1eb",
   "metadata": {},
   "outputs": [
    {
     "ename": "ValueError",
     "evalue": "list.remove(x): x not in list",
     "output_type": "error",
     "traceback": [
      "\u001b[31m---------------------------------------------------------------------------\u001b[39m",
      "\u001b[31mValueError\u001b[39m                                Traceback (most recent call last)",
      "\u001b[36mCell\u001b[39m\u001b[36m \u001b[39m\u001b[32mIn[38]\u001b[39m\u001b[32m, line 1\u001b[39m\n\u001b[32m----> \u001b[39m\u001b[32m1\u001b[39m \u001b[43mfruit\u001b[49m\u001b[43m.\u001b[49m\u001b[43mremove\u001b[49m\u001b[43m(\u001b[49m\u001b[33;43m'\u001b[39;49m\u001b[33;43mkiwi\u001b[39;49m\u001b[33;43m'\u001b[39;49m\u001b[43m)\u001b[49m\n",
      "\u001b[31mValueError\u001b[39m: list.remove(x): x not in list"
     ]
    }
   ],
   "source": [
    "fruit.remove('kiwi')"
   ]
  },
  {
   "cell_type": "code",
   "execution_count": 42,
   "id": "0e44979e",
   "metadata": {},
   "outputs": [],
   "source": [
    "fruit.sort(reverse=True)"
   ]
  },
  {
   "cell_type": "code",
   "execution_count": 43,
   "id": "21d483f4",
   "metadata": {},
   "outputs": [
    {
     "data": {
      "text/plain": [
       "['melon', 'mango', 'apple']"
      ]
     },
     "execution_count": 43,
     "metadata": {},
     "output_type": "execute_result"
    }
   ],
   "source": [
    "fruit\n"
   ]
  },
  {
   "cell_type": "code",
   "execution_count": 46,
   "id": "83901978",
   "metadata": {},
   "outputs": [
    {
     "data": {
      "text/plain": [
       "2"
      ]
     },
     "execution_count": 46,
     "metadata": {},
     "output_type": "execute_result"
    }
   ],
   "source": [
    "fruit.index('apple')"
   ]
  },
  {
   "cell_type": "code",
   "execution_count": 47,
   "id": "2c06126d",
   "metadata": {},
   "outputs": [],
   "source": [
    "result = [90, 80, 100, 70, 80, 90, 90, 100, 80, 70]"
   ]
  },
  {
   "cell_type": "code",
   "execution_count": 50,
   "id": "c32bb310",
   "metadata": {},
   "outputs": [
    {
     "data": {
      "text/plain": [
       "2"
      ]
     },
     "execution_count": 50,
     "metadata": {},
     "output_type": "execute_result"
    }
   ],
   "source": [
    "result.count(100)"
   ]
  },
  {
   "cell_type": "code",
   "execution_count": 51,
   "id": "ab1bde72",
   "metadata": {},
   "outputs": [],
   "source": [
    "name = ['jiwoo', 'hyunwoo', 'seoyeon', 'jiun', 'seongmin', 'miyoung', 'taeo', 'jihae', 'sangwoo', 'swonyoung']"
   ]
  },
  {
   "cell_type": "code",
   "execution_count": 52,
   "id": "bb69898a",
   "metadata": {},
   "outputs": [],
   "source": [
    "maths = [63, 94, 80, 77, 87, 71, 83, 59, 90, 75]"
   ]
  },
  {
   "cell_type": "code",
   "execution_count": 53,
   "id": "f4a760e4",
   "metadata": {},
   "outputs": [],
   "source": [
    "science = [57, 86, 75, 72, 80, 66, 77, 54, 82, 70]"
   ]
  },
  {
   "cell_type": "code",
   "execution_count": null,
   "id": "90fe43bc",
   "metadata": {},
   "outputs": [],
   "source": []
  }
 ],
 "metadata": {
  "kernelspec": {
   "display_name": "Python 3",
   "language": "python",
   "name": "python3"
  },
  "language_info": {
   "codemirror_mode": {
    "name": "ipython",
    "version": 3
   },
   "file_extension": ".py",
   "mimetype": "text/x-python",
   "name": "python",
   "nbconvert_exporter": "python",
   "pygments_lexer": "ipython3",
   "version": "3.12.1"
  }
 },
 "nbformat": 4,
 "nbformat_minor": 5
}
