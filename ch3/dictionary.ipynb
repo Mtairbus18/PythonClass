{
 "cells": [
  {
   "cell_type": "code",
   "execution_count": 2,
   "id": "c8b3fd6f",
   "metadata": {},
   "outputs": [],
   "source": [
    "fruit ={'apple' : 'orange', 'banana' : 'blueberry', 'mango' : 'peach'}"
   ]
  },
  {
   "cell_type": "code",
   "execution_count": 4,
   "id": "065f33e8",
   "metadata": {},
   "outputs": [
    {
     "data": {
      "text/plain": [
       "{'apple': 'orange', 'banana': 'blueberry', 'mango': 'peach'}"
      ]
     },
     "execution_count": 4,
     "metadata": {},
     "output_type": "execute_result"
    }
   ],
   "source": [
    "fruit"
   ]
  },
  {
   "cell_type": "code",
   "execution_count": 6,
   "id": "3650be54",
   "metadata": {},
   "outputs": [
    {
     "data": {
      "text/plain": [
       "'orange'"
      ]
     },
     "execution_count": 6,
     "metadata": {},
     "output_type": "execute_result"
    }
   ],
   "source": [
    "fruit['apple']"
   ]
  },
  {
   "cell_type": "code",
   "execution_count": 1,
   "id": "a8b6e654",
   "metadata": {},
   "outputs": [],
   "source": [
    "data2 = {'name':'narae', 'korean':79, 'english':83}"
   ]
  },
  {
   "cell_type": "code",
   "execution_count": 2,
   "id": "9289b6f9",
   "metadata": {},
   "outputs": [
    {
     "data": {
      "text/plain": [
       "'narae'"
      ]
     },
     "execution_count": 2,
     "metadata": {},
     "output_type": "execute_result"
    }
   ],
   "source": [
    "data2['name']"
   ]
  },
  {
   "cell_type": "code",
   "execution_count": 3,
   "id": "1508af29",
   "metadata": {},
   "outputs": [
    {
     "data": {
      "text/plain": [
       "83"
      ]
     },
     "execution_count": 3,
     "metadata": {},
     "output_type": "execute_result"
    }
   ],
   "source": [
    "data2['english']"
   ]
  },
  {
   "cell_type": "code",
   "execution_count": 34,
   "id": "aeb216d1",
   "metadata": {},
   "outputs": [],
   "source": [
    "data2 = {'name':'narae'}"
   ]
  },
  {
   "cell_type": "code",
   "execution_count": 35,
   "id": "f7fc396b",
   "metadata": {},
   "outputs": [],
   "source": [
    "grade2 = {'korean':79, 'english':92, 'maths':83}"
   ]
  },
  {
   "cell_type": "code",
   "execution_count": 36,
   "id": "15fe575b",
   "metadata": {},
   "outputs": [],
   "source": [
    "data2 = {'name':'narae', 'preformance':grade2}"
   ]
  },
  {
   "cell_type": "code",
   "execution_count": 37,
   "id": "b4fed4cb",
   "metadata": {},
   "outputs": [
    {
     "data": {
      "text/plain": [
       "{'name': 'narae', 'preformance': {'korean': 79, 'english': 92, 'maths': 83}}"
      ]
     },
     "execution_count": 37,
     "metadata": {},
     "output_type": "execute_result"
    }
   ],
   "source": [
    "data2"
   ]
  },
  {
   "cell_type": "code",
   "execution_count": 38,
   "id": "44083978",
   "metadata": {},
   "outputs": [
    {
     "data": {
      "text/plain": [
       "{'korean': 79, 'english': 92, 'maths': 83}"
      ]
     },
     "execution_count": 38,
     "metadata": {},
     "output_type": "execute_result"
    }
   ],
   "source": [
    "data2['preformance']"
   ]
  },
  {
   "cell_type": "code",
   "execution_count": 30,
   "id": "a749e6e6",
   "metadata": {},
   "outputs": [
    {
     "data": {
      "text/plain": [
       "79"
      ]
     },
     "execution_count": 30,
     "metadata": {},
     "output_type": "execute_result"
    }
   ],
   "source": [
    "data2['preformance']['korean']"
   ]
  },
  {
   "cell_type": "code",
   "execution_count": 31,
   "id": "f13a737f",
   "metadata": {},
   "outputs": [
    {
     "data": {
      "text/plain": [
       "83"
      ]
     },
     "execution_count": 31,
     "metadata": {},
     "output_type": "execute_result"
    }
   ],
   "source": [
    "data2['preformance']['maths']"
   ]
  },
  {
   "cell_type": "code",
   "execution_count": 41,
   "id": "08a2023c",
   "metadata": {},
   "outputs": [],
   "source": [
    "data2['preformance']['science'] = 90"
   ]
  },
  {
   "cell_type": "code",
   "execution_count": 42,
   "id": "1e21138f",
   "metadata": {},
   "outputs": [
    {
     "data": {
      "text/plain": [
       "{'name': 'narae',\n",
       " 'preformance': {'korean': 79, 'english': 92, 'maths': 83, 'science': 90}}"
      ]
     },
     "execution_count": 42,
     "metadata": {},
     "output_type": "execute_result"
    }
   ],
   "source": [
    "data2"
   ]
  },
  {
   "cell_type": "code",
   "execution_count": 47,
   "id": "53d23393",
   "metadata": {},
   "outputs": [],
   "source": [
    "data2['grade'] = 1"
   ]
  },
  {
   "cell_type": "code",
   "execution_count": 48,
   "id": "dfe35944",
   "metadata": {},
   "outputs": [
    {
     "data": {
      "text/plain": [
       "{'name': 'narae',\n",
       " 'preformance': {'korean': 79, 'english': 92, 'maths': 83, 'science': 90},\n",
       " 'grade2': 1,\n",
       " 'grade': 1}"
      ]
     },
     "execution_count": 48,
     "metadata": {},
     "output_type": "execute_result"
    }
   ],
   "source": [
    "data2"
   ]
  },
  {
   "cell_type": "code",
   "execution_count": 49,
   "id": "01aa6742",
   "metadata": {},
   "outputs": [],
   "source": [
    "del data2['grade2']"
   ]
  },
  {
   "cell_type": "code",
   "execution_count": 50,
   "id": "3684cfbb",
   "metadata": {},
   "outputs": [
    {
     "data": {
      "text/plain": [
       "{'name': 'narae',\n",
       " 'preformance': {'korean': 79, 'english': 92, 'maths': 83, 'science': 90},\n",
       " 'grade': 1}"
      ]
     },
     "execution_count": 50,
     "metadata": {},
     "output_type": "execute_result"
    }
   ],
   "source": [
    "data2"
   ]
  },
  {
   "cell_type": "code",
   "execution_count": 51,
   "id": "656be7b9",
   "metadata": {},
   "outputs": [
    {
     "name": "stdout",
     "output_type": "stream",
     "text": [
      "dict_keys(['jan', 'feb', 'mar', 'apr', 'may'])\n"
     ]
    }
   ],
   "source": [
    "data_dict = {'jan':31, 'feb':28, 'mar':31, 'apr':30, 'may':31}\n",
    "key_list = data_dict.keys()\n",
    "print(key_list)"
   ]
  },
  {
   "cell_type": "code",
   "execution_count": 52,
   "id": "06763ebf",
   "metadata": {},
   "outputs": [
    {
     "ename": "TypeError",
     "evalue": "'dict_keys' object is not subscriptable",
     "output_type": "error",
     "traceback": [
      "\u001b[31m---------------------------------------------------------------------------\u001b[39m",
      "\u001b[31mTypeError\u001b[39m                                 Traceback (most recent call last)",
      "\u001b[36mCell\u001b[39m\u001b[36m \u001b[39m\u001b[32mIn[52]\u001b[39m\u001b[32m, line 1\u001b[39m\n\u001b[32m----> \u001b[39m\u001b[32m1\u001b[39m \u001b[43mkey_list\u001b[49m\u001b[43m[\u001b[49m\u001b[32;43m0\u001b[39;49m\u001b[43m]\u001b[49m\n",
      "\u001b[31mTypeError\u001b[39m: 'dict_keys' object is not subscriptable"
     ]
    }
   ],
   "source": [
    "key_list[0]"
   ]
  },
  {
   "cell_type": "code",
   "execution_count": 53,
   "id": "f629fbf5",
   "metadata": {},
   "outputs": [
    {
     "data": {
      "text/plain": [
       "'jan'"
      ]
     },
     "execution_count": 53,
     "metadata": {},
     "output_type": "execute_result"
    }
   ],
   "source": [
    "list(key_list) [0]"
   ]
  },
  {
   "cell_type": "code",
   "execution_count": 54,
   "id": "31dc86a8",
   "metadata": {},
   "outputs": [
    {
     "name": "stdout",
     "output_type": "stream",
     "text": [
      "dict_values([31, 28, 31, 30, 31])\n"
     ]
    }
   ],
   "source": [
    "value_list = data_dict.values()\n",
    "print(value_list)"
   ]
  },
  {
   "cell_type": "code",
   "execution_count": null,
   "id": "4efff27d",
   "metadata": {},
   "outputs": [],
   "source": []
  }
 ],
 "metadata": {
  "kernelspec": {
   "display_name": "Python 3",
   "language": "python",
   "name": "python3"
  },
  "language_info": {
   "codemirror_mode": {
    "name": "ipython",
    "version": 3
   },
   "file_extension": ".py",
   "mimetype": "text/x-python",
   "name": "python",
   "nbconvert_exporter": "python",
   "pygments_lexer": "ipython3",
   "version": "3.12.1"
  }
 },
 "nbformat": 4,
 "nbformat_minor": 5
}
