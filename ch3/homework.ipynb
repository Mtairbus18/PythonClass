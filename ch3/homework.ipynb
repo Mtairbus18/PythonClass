{
 "cells": [
  {
   "cell_type": "code",
   "execution_count": 8,
   "id": "ec2364dc",
   "metadata": {},
   "outputs": [],
   "source": [
    "num1 = input('첫 번째 숫자')\n",
    "num2 = input('두 번째 숫자')"
   ]
  },
  {
   "cell_type": "code",
   "execution_count": 9,
   "id": "82a79980",
   "metadata": {},
   "outputs": [],
   "source": [
    "num1 = int(num1)\n",
    "num2 = int(num2)\n",
    "\n"
   ]
  },
  {
   "cell_type": "code",
   "execution_count": 10,
   "id": "2009491c",
   "metadata": {},
   "outputs": [
    {
     "name": "stdout",
     "output_type": "stream",
     "text": [
      "5\n"
     ]
    }
   ],
   "source": [
    "result = num1 + num2\n",
    "print(result)"
   ]
  },
  {
   "cell_type": "code",
   "execution_count": 29,
   "id": "5e86c368",
   "metadata": {},
   "outputs": [],
   "source": [
    "diary = '오늘은 아빠와 함께 코딩을 배우는 시간을 가졌다. 아빠가 가르쳐준 간단한 코드를 작성하는 것을 배웠다. 이전에는 이것이 얼마나 두려울까 걱정했었는데, 실제로는 그렇게 어렵지 않았다. 아빠는 선생님처럼 나를 가르쳐주었고, 나는 아빠의 지도를 받으며 열심히 코딩을 배웠다. 아빠와의 코딩 수업은 즐거웠다. 앞으로도 더 많은 것을 배우고싶다.'\n"
   ]
  },
  {
   "cell_type": "code",
   "execution_count": 31,
   "id": "19faae0b",
   "metadata": {},
   "outputs": [
    {
     "name": "stdout",
     "output_type": "stream",
     "text": [
      "오늘은 아빠와 함께 코딩을 배우는 시간을 가졌다.\n",
      "아빠가 가르쳐준 간단한 코드를 작성하는 것을 배웠다.\n",
      "이전에는 이것이 얼마나 두려울까 걱정했었는데, 실제로는 그렇게 어렵지 않았다.\n",
      "아빠는 선생님처럼 나를 가르쳐주었고, 나는 아빠의 지도를 받으며 열심히 코딩을 배웠다.\n",
      "아빠와의 코딩 수업은 즐거웠다.\n",
      "앞으로도 더 많은 것을 배우고싶다.\n"
     ]
    }
   ],
   "source": [
    "result = diary.replace('. ', '.\\n')\n",
    "print(result)"
   ]
  },
  {
   "cell_type": "code",
   "execution_count": null,
   "id": "af2e440f",
   "metadata": {},
   "outputs": [],
   "source": [
    "data = '''I am a boy.\n",
    "you are a girl.\n",
    "we like coding.'''"
   ]
  },
  {
   "cell_type": "code",
   "execution_count": 37,
   "id": "7ee33d2e",
   "metadata": {},
   "outputs": [],
   "source": [
    "result = data.split('\\n')\n"
   ]
  },
  {
   "cell_type": "code",
   "execution_count": 38,
   "id": "df5e9125",
   "metadata": {},
   "outputs": [
    {
     "data": {
      "text/plain": [
       "['I am a boy.', 'you are a girl.', 'we like coding.']"
      ]
     },
     "execution_count": 38,
     "metadata": {},
     "output_type": "execute_result"
    }
   ],
   "source": [
    "result"
   ]
  },
  {
   "cell_type": "code",
   "execution_count": 40,
   "id": "9be37131",
   "metadata": {},
   "outputs": [
    {
     "data": {
      "text/plain": [
       "'I am a boy.'"
      ]
     },
     "execution_count": 40,
     "metadata": {},
     "output_type": "execute_result"
    }
   ],
   "source": [
    "result[0]"
   ]
  },
  {
   "cell_type": "code",
   "execution_count": 6,
   "id": "037c48a4",
   "metadata": {},
   "outputs": [
    {
     "data": {
      "text/plain": [
       "7"
      ]
     },
     "execution_count": 6,
     "metadata": {},
     "output_type": "execute_result"
    }
   ],
   "source": [
    "a = [1,4,7]\n",
    "b = [2,3,6]\n",
    "ab_max = max((a))\n",
    "ab_max"
   ]
  },
  {
   "cell_type": "code",
   "execution_count": 9,
   "id": "b367e381",
   "metadata": {},
   "outputs": [
    {
     "name": "stdout",
     "output_type": "stream",
     "text": [
      "1 2 3 4 5\n"
     ]
    }
   ],
   "source": [
    "a, b, c, d, e = 1, 2, 4, 3, 5\n",
    "values = [a, b, c, d, e]\n",
    "sorted_values = sorted(values)\n",
    "a, b, c, d, e = sorted_values\n",
    "print(a, b, c, d, e)"
   ]
  },
  {
   "cell_type": "code",
   "execution_count": 49,
   "id": "eeb49371",
   "metadata": {},
   "outputs": [
    {
     "name": "stdout",
     "output_type": "stream",
     "text": [
      "영국 의 수도는 런던 입니다\n"
     ]
    }
   ],
   "source": [
    "cap_dict = {'한국': '서울', '미국': '워싱턴', '영국': '런던'}\n",
    "nation = input('나라 이름:')\n",
    "result = cap_dict[nation]\n",
    "print(f'{nation} 의 수도는 {result} 입니다')"
   ]
  },
  {
   "cell_type": "code",
   "execution_count": 45,
   "id": "b982deef",
   "metadata": {},
   "outputs": [],
   "source": [
    "NUMBERS = [1, 2, 3, 4, 5]"
   ]
  },
  {
   "cell_type": "code",
   "execution_count": 28,
   "id": "ed556167",
   "metadata": {},
   "outputs": [
    {
     "data": {
      "text/plain": [
       "4"
      ]
     },
     "execution_count": 28,
     "metadata": {},
     "output_type": "execute_result"
    }
   ],
   "source": [
    "NUMBERS[3]"
   ]
  },
  {
   "cell_type": "code",
   "execution_count": 29,
   "id": "f0454aa2",
   "metadata": {},
   "outputs": [
    {
     "data": {
      "text/plain": [
       "2"
      ]
     },
     "execution_count": 29,
     "metadata": {},
     "output_type": "execute_result"
    }
   ],
   "source": [
    "NUMBERS[1]"
   ]
  },
  {
   "cell_type": "code",
   "execution_count": 35,
   "id": "f3c44d03",
   "metadata": {},
   "outputs": [],
   "source": [
    "A = int(input('숫자를 입력해 주세요'))"
   ]
  },
  {
   "cell_type": "code",
   "execution_count": null,
   "id": "218c54f5",
   "metadata": {},
   "outputs": [
    {
     "data": {
      "text/plain": [
       "5"
      ]
     },
     "execution_count": 36,
     "metadata": {},
     "output_type": "execute_result"
    }
   ],
   "source": [
    "NUMBERS[A]"
   ]
  },
  {
   "cell_type": "code",
   "execution_count": null,
   "id": "37486e8a",
   "metadata": {},
   "outputs": [],
   "source": []
  }
 ],
 "metadata": {
  "kernelspec": {
   "display_name": "Python 3",
   "language": "python",
   "name": "python3"
  },
  "language_info": {
   "codemirror_mode": {
    "name": "ipython",
    "version": 3
   },
   "file_extension": ".py",
   "mimetype": "text/x-python",
   "name": "python",
   "nbconvert_exporter": "python",
   "pygments_lexer": "ipython3",
   "version": "3.12.1"
  }
 },
 "nbformat": 4,
 "nbformat_minor": 5
}
